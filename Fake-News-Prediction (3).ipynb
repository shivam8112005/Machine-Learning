{
 "cells": [
  {
   "cell_type": "code",
   "execution_count": 1,
   "id": "b377ca55",
   "metadata": {
    "execution": {
     "iopub.execute_input": "2025-05-14T11:15:15.903905Z",
     "iopub.status.busy": "2025-05-14T11:15:15.903318Z",
     "iopub.status.idle": "2025-05-14T11:15:20.270288Z",
     "shell.execute_reply": "2025-05-14T11:15:20.269339Z"
    },
    "papermill": {
     "duration": 4.37532,
     "end_time": "2025-05-14T11:15:20.272024",
     "exception": false,
     "start_time": "2025-05-14T11:15:15.896704",
     "status": "completed"
    },
    "tags": []
   },
   "outputs": [],
   "source": [
    "import pandas as pd\n",
    "import numpy as np\n",
    "import re\n",
    "from nltk.corpus import stopwords\n",
    "from nltk.stem.porter import PorterStemmer\n",
    "from sklearn.feature_extraction.text import TfidfVectorizer\n",
    " # to convert text into numbers\n",
    "from sklearn.model_selection import train_test_split\n",
    "from sklearn.linear_model import LogisticRegression\n",
    "from sklearn.metrics import accuracy_score\n",
    "from sklearn.model_selection import cross_val_score"
   ]
  },
  {
   "cell_type": "code",
   "execution_count": 2,
   "id": "91fca7b5",
   "metadata": {
    "execution": {
     "iopub.execute_input": "2025-05-14T11:15:20.284205Z",
     "iopub.status.busy": "2025-05-14T11:15:20.283758Z",
     "iopub.status.idle": "2025-05-14T11:15:20.378418Z",
     "shell.execute_reply": "2025-05-14T11:15:20.377383Z"
    },
    "papermill": {
     "duration": 0.101957,
     "end_time": "2025-05-14T11:15:20.380006",
     "exception": false,
     "start_time": "2025-05-14T11:15:20.278049",
     "status": "completed"
    },
    "tags": []
   },
   "outputs": [
    {
     "name": "stderr",
     "output_type": "stream",
     "text": [
      "[nltk_data] Downloading package stopwords to /usr/share/nltk_data...\n",
      "[nltk_data]   Package stopwords is already up-to-date!\n"
     ]
    },
    {
     "data": {
      "text/plain": [
       "True"
      ]
     },
     "execution_count": 2,
     "metadata": {},
     "output_type": "execute_result"
    }
   ],
   "source": [
    "import nltk \n",
    "nltk.download('stopwords')"
   ]
  },
  {
   "cell_type": "code",
   "execution_count": 3,
   "id": "6829a73c",
   "metadata": {
    "execution": {
     "iopub.execute_input": "2025-05-14T11:15:20.390932Z",
     "iopub.status.busy": "2025-05-14T11:15:20.390575Z",
     "iopub.status.idle": "2025-05-14T11:15:20.401069Z",
     "shell.execute_reply": "2025-05-14T11:15:20.400121Z"
    },
    "papermill": {
     "duration": 0.017771,
     "end_time": "2025-05-14T11:15:20.402679",
     "exception": false,
     "start_time": "2025-05-14T11:15:20.384908",
     "status": "completed"
    },
    "tags": []
   },
   "outputs": [
    {
     "data": {
      "text/plain": [
       "['a',\n",
       " 'about',\n",
       " 'above',\n",
       " 'after',\n",
       " 'again',\n",
       " 'against',\n",
       " 'ain',\n",
       " 'all',\n",
       " 'am',\n",
       " 'an',\n",
       " 'and',\n",
       " 'any',\n",
       " 'are',\n",
       " 'aren',\n",
       " \"aren't\",\n",
       " 'as',\n",
       " 'at',\n",
       " 'be',\n",
       " 'because',\n",
       " 'been',\n",
       " 'before',\n",
       " 'being',\n",
       " 'below',\n",
       " 'between',\n",
       " 'both',\n",
       " 'but',\n",
       " 'by',\n",
       " 'can',\n",
       " 'couldn',\n",
       " \"couldn't\",\n",
       " 'd',\n",
       " 'did',\n",
       " 'didn',\n",
       " \"didn't\",\n",
       " 'do',\n",
       " 'does',\n",
       " 'doesn',\n",
       " \"doesn't\",\n",
       " 'doing',\n",
       " 'don',\n",
       " \"don't\",\n",
       " 'down',\n",
       " 'during',\n",
       " 'each',\n",
       " 'few',\n",
       " 'for',\n",
       " 'from',\n",
       " 'further',\n",
       " 'had',\n",
       " 'hadn',\n",
       " \"hadn't\",\n",
       " 'has',\n",
       " 'hasn',\n",
       " \"hasn't\",\n",
       " 'have',\n",
       " 'haven',\n",
       " \"haven't\",\n",
       " 'having',\n",
       " 'he',\n",
       " \"he'd\",\n",
       " \"he'll\",\n",
       " 'her',\n",
       " 'here',\n",
       " 'hers',\n",
       " 'herself',\n",
       " \"he's\",\n",
       " 'him',\n",
       " 'himself',\n",
       " 'his',\n",
       " 'how',\n",
       " 'i',\n",
       " \"i'd\",\n",
       " 'if',\n",
       " \"i'll\",\n",
       " \"i'm\",\n",
       " 'in',\n",
       " 'into',\n",
       " 'is',\n",
       " 'isn',\n",
       " \"isn't\",\n",
       " 'it',\n",
       " \"it'd\",\n",
       " \"it'll\",\n",
       " \"it's\",\n",
       " 'its',\n",
       " 'itself',\n",
       " \"i've\",\n",
       " 'just',\n",
       " 'll',\n",
       " 'm',\n",
       " 'ma',\n",
       " 'me',\n",
       " 'mightn',\n",
       " \"mightn't\",\n",
       " 'more',\n",
       " 'most',\n",
       " 'mustn',\n",
       " \"mustn't\",\n",
       " 'my',\n",
       " 'myself',\n",
       " 'needn',\n",
       " \"needn't\",\n",
       " 'no',\n",
       " 'nor',\n",
       " 'not',\n",
       " 'now',\n",
       " 'o',\n",
       " 'of',\n",
       " 'off',\n",
       " 'on',\n",
       " 'once',\n",
       " 'only',\n",
       " 'or',\n",
       " 'other',\n",
       " 'our',\n",
       " 'ours',\n",
       " 'ourselves',\n",
       " 'out',\n",
       " 'over',\n",
       " 'own',\n",
       " 're',\n",
       " 's',\n",
       " 'same',\n",
       " 'shan',\n",
       " \"shan't\",\n",
       " 'she',\n",
       " \"she'd\",\n",
       " \"she'll\",\n",
       " \"she's\",\n",
       " 'should',\n",
       " 'shouldn',\n",
       " \"shouldn't\",\n",
       " \"should've\",\n",
       " 'so',\n",
       " 'some',\n",
       " 'such',\n",
       " 't',\n",
       " 'than',\n",
       " 'that',\n",
       " \"that'll\",\n",
       " 'the',\n",
       " 'their',\n",
       " 'theirs',\n",
       " 'them',\n",
       " 'themselves',\n",
       " 'then',\n",
       " 'there',\n",
       " 'these',\n",
       " 'they',\n",
       " \"they'd\",\n",
       " \"they'll\",\n",
       " \"they're\",\n",
       " \"they've\",\n",
       " 'this',\n",
       " 'those',\n",
       " 'through',\n",
       " 'to',\n",
       " 'too',\n",
       " 'under',\n",
       " 'until',\n",
       " 'up',\n",
       " 've',\n",
       " 'very',\n",
       " 'was',\n",
       " 'wasn',\n",
       " \"wasn't\",\n",
       " 'we',\n",
       " \"we'd\",\n",
       " \"we'll\",\n",
       " \"we're\",\n",
       " 'were',\n",
       " 'weren',\n",
       " \"weren't\",\n",
       " \"we've\",\n",
       " 'what',\n",
       " 'when',\n",
       " 'where',\n",
       " 'which',\n",
       " 'while',\n",
       " 'who',\n",
       " 'whom',\n",
       " 'why',\n",
       " 'will',\n",
       " 'with',\n",
       " 'won',\n",
       " \"won't\",\n",
       " 'wouldn',\n",
       " \"wouldn't\",\n",
       " 'y',\n",
       " 'you',\n",
       " \"you'd\",\n",
       " \"you'll\",\n",
       " 'your',\n",
       " \"you're\",\n",
       " 'yours',\n",
       " 'yourself',\n",
       " 'yourselves',\n",
       " \"you've\"]"
      ]
     },
     "execution_count": 3,
     "metadata": {},
     "output_type": "execute_result"
    }
   ],
   "source": [
    "stopwords.words('english')"
   ]
  },
  {
   "cell_type": "code",
   "execution_count": 4,
   "id": "11770377",
   "metadata": {
    "execution": {
     "iopub.execute_input": "2025-05-14T11:15:20.414144Z",
     "iopub.status.busy": "2025-05-14T11:15:20.413293Z",
     "iopub.status.idle": "2025-05-14T11:15:27.150275Z",
     "shell.execute_reply": "2025-05-14T11:15:27.149391Z"
    },
    "papermill": {
     "duration": 6.744394,
     "end_time": "2025-05-14T11:15:27.152093",
     "exception": false,
     "start_time": "2025-05-14T11:15:20.407699",
     "status": "completed"
    },
    "tags": []
   },
   "outputs": [
    {
     "data": {
      "text/html": [
       "<div>\n",
       "<style scoped>\n",
       "    .dataframe tbody tr th:only-of-type {\n",
       "        vertical-align: middle;\n",
       "    }\n",
       "\n",
       "    .dataframe tbody tr th {\n",
       "        vertical-align: top;\n",
       "    }\n",
       "\n",
       "    .dataframe thead th {\n",
       "        text-align: right;\n",
       "    }\n",
       "</style>\n",
       "<table border=\"1\" class=\"dataframe\">\n",
       "  <thead>\n",
       "    <tr style=\"text-align: right;\">\n",
       "      <th></th>\n",
       "      <th>Unnamed: 0</th>\n",
       "      <th>title</th>\n",
       "      <th>text</th>\n",
       "      <th>label</th>\n",
       "    </tr>\n",
       "  </thead>\n",
       "  <tbody>\n",
       "    <tr>\n",
       "      <th>0</th>\n",
       "      <td>0</td>\n",
       "      <td>LAW ENFORCEMENT ON HIGH ALERT Following Threat...</td>\n",
       "      <td>No comment is expected from Barack Obama Membe...</td>\n",
       "      <td>1</td>\n",
       "    </tr>\n",
       "    <tr>\n",
       "      <th>1</th>\n",
       "      <td>1</td>\n",
       "      <td>NaN</td>\n",
       "      <td>Did they post their votes for Hillary already?</td>\n",
       "      <td>1</td>\n",
       "    </tr>\n",
       "    <tr>\n",
       "      <th>2</th>\n",
       "      <td>2</td>\n",
       "      <td>UNBELIEVABLE! OBAMA’S ATTORNEY GENERAL SAYS MO...</td>\n",
       "      <td>Now, most of the demonstrators gathered last ...</td>\n",
       "      <td>1</td>\n",
       "    </tr>\n",
       "    <tr>\n",
       "      <th>3</th>\n",
       "      <td>3</td>\n",
       "      <td>Bobby Jindal, raised Hindu, uses story of Chri...</td>\n",
       "      <td>A dozen politically active pastors came here f...</td>\n",
       "      <td>0</td>\n",
       "    </tr>\n",
       "    <tr>\n",
       "      <th>4</th>\n",
       "      <td>4</td>\n",
       "      <td>SATAN 2: Russia unvelis an image of its terrif...</td>\n",
       "      <td>The RS-28 Sarmat missile, dubbed Satan 2, will...</td>\n",
       "      <td>1</td>\n",
       "    </tr>\n",
       "  </tbody>\n",
       "</table>\n",
       "</div>"
      ],
      "text/plain": [
       "   Unnamed: 0                                              title  \\\n",
       "0           0  LAW ENFORCEMENT ON HIGH ALERT Following Threat...   \n",
       "1           1                                                NaN   \n",
       "2           2  UNBELIEVABLE! OBAMA’S ATTORNEY GENERAL SAYS MO...   \n",
       "3           3  Bobby Jindal, raised Hindu, uses story of Chri...   \n",
       "4           4  SATAN 2: Russia unvelis an image of its terrif...   \n",
       "\n",
       "                                                text  label  \n",
       "0  No comment is expected from Barack Obama Membe...      1  \n",
       "1     Did they post their votes for Hillary already?      1  \n",
       "2   Now, most of the demonstrators gathered last ...      1  \n",
       "3  A dozen politically active pastors came here f...      0  \n",
       "4  The RS-28 Sarmat missile, dubbed Satan 2, will...      1  "
      ]
     },
     "execution_count": 4,
     "metadata": {},
     "output_type": "execute_result"
    }
   ],
   "source": [
    "df=pd.read_csv('/kaggle/input/fake-news-classification/WELFake_Dataset.csv')\n",
    "df.head()"
   ]
  },
  {
   "cell_type": "code",
   "execution_count": 5,
   "id": "ae19a034",
   "metadata": {
    "execution": {
     "iopub.execute_input": "2025-05-14T11:15:27.163454Z",
     "iopub.status.busy": "2025-05-14T11:15:27.163126Z",
     "iopub.status.idle": "2025-05-14T11:15:27.168792Z",
     "shell.execute_reply": "2025-05-14T11:15:27.167853Z"
    },
    "papermill": {
     "duration": 0.012838,
     "end_time": "2025-05-14T11:15:27.170197",
     "exception": false,
     "start_time": "2025-05-14T11:15:27.157359",
     "status": "completed"
    },
    "tags": []
   },
   "outputs": [
    {
     "data": {
      "text/plain": [
       "(72134, 4)"
      ]
     },
     "execution_count": 5,
     "metadata": {},
     "output_type": "execute_result"
    }
   ],
   "source": [
    "df.shape"
   ]
  },
  {
   "cell_type": "code",
   "execution_count": 6,
   "id": "f2388d75",
   "metadata": {
    "execution": {
     "iopub.execute_input": "2025-05-14T11:15:27.182049Z",
     "iopub.status.busy": "2025-05-14T11:15:27.181395Z",
     "iopub.status.idle": "2025-05-14T11:15:27.207114Z",
     "shell.execute_reply": "2025-05-14T11:15:27.206288Z"
    },
    "papermill": {
     "duration": 0.033412,
     "end_time": "2025-05-14T11:15:27.208670",
     "exception": false,
     "start_time": "2025-05-14T11:15:27.175258",
     "status": "completed"
    },
    "tags": []
   },
   "outputs": [
    {
     "data": {
      "text/plain": [
       "Unnamed: 0      0\n",
       "title         558\n",
       "text           39\n",
       "label           0\n",
       "dtype: int64"
      ]
     },
     "execution_count": 6,
     "metadata": {},
     "output_type": "execute_result"
    }
   ],
   "source": [
    "df.isna().sum()"
   ]
  },
  {
   "cell_type": "code",
   "execution_count": 7,
   "id": "0f902aea",
   "metadata": {
    "execution": {
     "iopub.execute_input": "2025-05-14T11:15:27.220089Z",
     "iopub.status.busy": "2025-05-14T11:15:27.219793Z",
     "iopub.status.idle": "2025-05-14T11:15:27.281290Z",
     "shell.execute_reply": "2025-05-14T11:15:27.280468Z"
    },
    "papermill": {
     "duration": 0.068828,
     "end_time": "2025-05-14T11:15:27.282765",
     "exception": false,
     "start_time": "2025-05-14T11:15:27.213937",
     "status": "completed"
    },
    "tags": []
   },
   "outputs": [
    {
     "data": {
      "text/plain": [
       "Unnamed: 0    0\n",
       "title         0\n",
       "text          0\n",
       "label         0\n",
       "dtype: int64"
      ]
     },
     "execution_count": 7,
     "metadata": {},
     "output_type": "execute_result"
    }
   ],
   "source": [
    "df=df.fillna(\"\")\n",
    "df.isna().sum()"
   ]
  },
  {
   "cell_type": "code",
   "execution_count": 8,
   "id": "b29abd93",
   "metadata": {
    "execution": {
     "iopub.execute_input": "2025-05-14T11:15:27.294550Z",
     "iopub.status.busy": "2025-05-14T11:15:27.293883Z",
     "iopub.status.idle": "2025-05-14T11:15:27.297936Z",
     "shell.execute_reply": "2025-05-14T11:15:27.297087Z"
    },
    "papermill": {
     "duration": 0.011435,
     "end_time": "2025-05-14T11:15:27.299423",
     "exception": false,
     "start_time": "2025-05-14T11:15:27.287988",
     "status": "completed"
    },
    "tags": []
   },
   "outputs": [],
   "source": [
    "porterstemmer=PorterStemmer() #it is used to get root word from word like actor, acting, actress has act as a root word"
   ]
  },
  {
   "cell_type": "code",
   "execution_count": 9,
   "id": "39dc8e50",
   "metadata": {
    "execution": {
     "iopub.execute_input": "2025-05-14T11:15:27.310827Z",
     "iopub.status.busy": "2025-05-14T11:15:27.310515Z",
     "iopub.status.idle": "2025-05-14T11:15:27.315464Z",
     "shell.execute_reply": "2025-05-14T11:15:27.314667Z"
    },
    "papermill": {
     "duration": 0.012176,
     "end_time": "2025-05-14T11:15:27.316849",
     "exception": false,
     "start_time": "2025-05-14T11:15:27.304673",
     "status": "completed"
    },
    "tags": []
   },
   "outputs": [],
   "source": [
    "def stemming(content):\n",
    "    stemmed=re.sub('[^a-zA-Z]', ' ', content)\n",
    "    stemmed=stemmed.lower()\n",
    "    stemmed=stemmed.split()\n",
    "    stemmed=[porterstemmer.stem(word) for word in stemmed if not word in stopwords.words('english')]\n",
    "    stemmed=' '.join(stemmed)\n",
    "    return stemmed"
   ]
  },
  {
   "cell_type": "code",
   "execution_count": 10,
   "id": "1a4d482d",
   "metadata": {
    "execution": {
     "iopub.execute_input": "2025-05-14T11:15:27.328304Z",
     "iopub.status.busy": "2025-05-14T11:15:27.328006Z",
     "iopub.status.idle": "2025-05-14T11:17:00.721539Z",
     "shell.execute_reply": "2025-05-14T11:17:00.720472Z"
    },
    "papermill": {
     "duration": 93.401496,
     "end_time": "2025-05-14T11:17:00.723538",
     "exception": false,
     "start_time": "2025-05-14T11:15:27.322042",
     "status": "completed"
    },
    "tags": []
   },
   "outputs": [
    {
     "name": "stdout",
     "output_type": "stream",
     "text": [
      "0        LAW ENFORCEMENT ON HIGH ALERT Following Threat...\n",
      "1                                                         \n",
      "2        UNBELIEVABLE! OBAMA’S ATTORNEY GENERAL SAYS MO...\n",
      "3        Bobby Jindal, raised Hindu, uses story of Chri...\n",
      "4        SATAN 2: Russia unvelis an image of its terrif...\n",
      "                               ...                        \n",
      "72129    Russians steal research on Trump in hack of U....\n",
      "72130     WATCH: Giuliani Demands That Democrats Apolog...\n",
      "72131    Migrants Refuse To Leave Train At Refugee Camp...\n",
      "72132    Trump tussle gives unpopular Mexican leader mu...\n",
      "72133    Goldman Sachs Endorses Hillary Clinton For Pre...\n",
      "Name: title, Length: 72134, dtype: object\n"
     ]
    }
   ],
   "source": [
    "print(df['title'])\n",
    "df['title']=df['title'].apply(stemming)\n"
   ]
  },
  {
   "cell_type": "code",
   "execution_count": 11,
   "id": "5d1589bc",
   "metadata": {
    "execution": {
     "iopub.execute_input": "2025-05-14T11:17:00.736640Z",
     "iopub.status.busy": "2025-05-14T11:17:00.735965Z",
     "iopub.status.idle": "2025-05-14T11:17:00.742268Z",
     "shell.execute_reply": "2025-05-14T11:17:00.741151Z"
    },
    "papermill": {
     "duration": 0.014797,
     "end_time": "2025-05-14T11:17:00.744001",
     "exception": false,
     "start_time": "2025-05-14T11:17:00.729204",
     "status": "completed"
    },
    "tags": []
   },
   "outputs": [
    {
     "name": "stdout",
     "output_type": "stream",
     "text": [
      "0        law enforc high alert follow threat cop white ...\n",
      "1                                                         \n",
      "2        unbeliev obama attorney gener say charlott rio...\n",
      "3        bobbi jindal rais hindu use stori christian co...\n",
      "4        satan russia unv imag terrifi new supernuk wes...\n",
      "                               ...                        \n",
      "72129    russian steal research trump hack u democrat p...\n",
      "72130    watch giuliani demand democrat apolog trump ra...\n",
      "72131         migrant refus leav train refuge camp hungari\n",
      "72132    trump tussl give unpopular mexican leader much...\n",
      "72133           goldman sach endors hillari clinton presid\n",
      "Name: title, Length: 72134, dtype: object\n"
     ]
    }
   ],
   "source": [
    "print(df['title'])"
   ]
  },
  {
   "cell_type": "code",
   "execution_count": 12,
   "id": "b2f94166",
   "metadata": {
    "execution": {
     "iopub.execute_input": "2025-05-14T11:17:00.756009Z",
     "iopub.status.busy": "2025-05-14T11:17:00.755423Z",
     "iopub.status.idle": "2025-05-14T11:17:00.759818Z",
     "shell.execute_reply": "2025-05-14T11:17:00.758781Z"
    },
    "papermill": {
     "duration": 0.011883,
     "end_time": "2025-05-14T11:17:00.761315",
     "exception": false,
     "start_time": "2025-05-14T11:17:00.749432",
     "status": "completed"
    },
    "tags": []
   },
   "outputs": [],
   "source": [
    "X=df['title'].values\n",
    "y=df['label'].values"
   ]
  },
  {
   "cell_type": "code",
   "execution_count": 13,
   "id": "a0a542a4",
   "metadata": {
    "execution": {
     "iopub.execute_input": "2025-05-14T11:17:00.773591Z",
     "iopub.status.busy": "2025-05-14T11:17:00.772890Z",
     "iopub.status.idle": "2025-05-14T11:17:00.777990Z",
     "shell.execute_reply": "2025-05-14T11:17:00.777047Z"
    },
    "papermill": {
     "duration": 0.012948,
     "end_time": "2025-05-14T11:17:00.779613",
     "exception": false,
     "start_time": "2025-05-14T11:17:00.766665",
     "status": "completed"
    },
    "tags": []
   },
   "outputs": [
    {
     "name": "stdout",
     "output_type": "stream",
     "text": [
      "['law enforc high alert follow threat cop white blacklivesmatt fyf terrorist video'\n",
      " ''\n",
      " 'unbeliev obama attorney gener say charlott rioter peac protest home state north carolina video'\n",
      " ... 'migrant refus leav train refuge camp hungari'\n",
      " 'trump tussl give unpopular mexican leader much need shot arm'\n",
      " 'goldman sach endors hillari clinton presid']\n"
     ]
    }
   ],
   "source": [
    "print(X)"
   ]
  },
  {
   "cell_type": "code",
   "execution_count": 14,
   "id": "f08aa161",
   "metadata": {
    "execution": {
     "iopub.execute_input": "2025-05-14T11:17:00.792144Z",
     "iopub.status.busy": "2025-05-14T11:17:00.791456Z",
     "iopub.status.idle": "2025-05-14T11:17:00.796528Z",
     "shell.execute_reply": "2025-05-14T11:17:00.795599Z"
    },
    "papermill": {
     "duration": 0.0127,
     "end_time": "2025-05-14T11:17:00.798024",
     "exception": false,
     "start_time": "2025-05-14T11:17:00.785324",
     "status": "completed"
    },
    "tags": []
   },
   "outputs": [
    {
     "name": "stdout",
     "output_type": "stream",
     "text": [
      "[1 1 1 ... 0 0 1]\n"
     ]
    }
   ],
   "source": [
    "print(y)"
   ]
  },
  {
   "cell_type": "code",
   "execution_count": 15,
   "id": "ed02ed36",
   "metadata": {
    "execution": {
     "iopub.execute_input": "2025-05-14T11:17:00.810703Z",
     "iopub.status.busy": "2025-05-14T11:17:00.809946Z",
     "iopub.status.idle": "2025-05-14T11:17:02.261026Z",
     "shell.execute_reply": "2025-05-14T11:17:02.260077Z"
    },
    "papermill": {
     "duration": 1.459405,
     "end_time": "2025-05-14T11:17:02.262873",
     "exception": false,
     "start_time": "2025-05-14T11:17:00.803468",
     "status": "completed"
    },
    "tags": []
   },
   "outputs": [
    {
     "name": "stdout",
     "output_type": "stream",
     "text": [
      "<Compressed Sparse Row sparse matrix of dtype 'float64'\n",
      "\twith 629110 stored elements and shape (72134, 19639)>\n",
      "  Coords\tValues\n",
      "  (0, 19106)\t0.19134939529376566\n",
      "  (0, 18648)\t0.1297506867782943\n",
      "  (0, 17363)\t0.2542650376115143\n",
      "  (0, 17260)\t0.24871262252022117\n",
      "  (0, 9699)\t0.22829788917209384\n",
      "  (0, 7887)\t0.26746434949988324\n",
      "  (0, 6730)\t0.48553136502134386\n",
      "  (0, 6425)\t0.28932771754845743\n",
      "  (0, 5509)\t0.31820565801047196\n",
      "  (0, 3679)\t0.24871262252022117\n",
      "  (0, 1802)\t0.33473541566384035\n",
      "  (0, 407)\t0.3190180925014663\n",
      "  (2, 18648)\t0.13443733492985524\n",
      "  (2, 18034)\t0.35962437110547785\n",
      "  (2, 16446)\t0.1999703023632961\n",
      "  (2, 15094)\t0.1609967301122813\n",
      "  (2, 14591)\t0.3580030298678158\n",
      "  (2, 13591)\t0.22687620695463123\n",
      "  (2, 12744)\t0.27904818164471595\n",
      "  (2, 12011)\t0.16878852994653004\n",
      "  (2, 11864)\t0.2231406266784195\n",
      "  (2, 8020)\t0.2692285294185893\n",
      "  (2, 6880)\t0.2652283770602196\n",
      "  (2, 2919)\t0.3639616996972358\n",
      "  (2, 2673)\t0.30809679188606154\n",
      "  :\t:\n",
      "  (72130, 1768)\t0.49293214478810593\n",
      "  (72130, 764)\t0.39870380407772993\n",
      "  (72131, 17617)\t0.39738745004026604\n",
      "  (72131, 14186)\t0.3534104623564766\n",
      "  (72131, 14182)\t0.32391500471431983\n",
      "  (72131, 10933)\t0.35527231533143033\n",
      "  (72131, 9752)\t0.3384827653769501\n",
      "  (72131, 8206)\t0.46269177743112333\n",
      "  (72131, 2566)\t0.3967249021272091\n",
      "  (72132, 18264)\t0.417810680338284\n",
      "  (72132, 17906)\t0.4674560433180039\n",
      "  (72132, 17778)\t0.10874560860578947\n",
      "  (72132, 15632)\t0.30543362821165165\n",
      "  (72132, 11617)\t0.2703806807329965\n",
      "  (72132, 11350)\t0.32005174915301016\n",
      "  (72132, 10871)\t0.3272655004229104\n",
      "  (72132, 9731)\t0.24522811865098657\n",
      "  (72132, 7003)\t0.2582870894160619\n",
      "  (72132, 873)\t0.3038308430269035\n",
      "  (72133, 14901)\t0.5564599843232266\n",
      "  (72133, 13427)\t0.29001763267842906\n",
      "  (72133, 7904)\t0.2573590839479994\n",
      "  (72133, 7103)\t0.5410264267527618\n",
      "  (72133, 5498)\t0.4224992179824501\n",
      "  (72133, 3245)\t0.26228453414449976\n"
     ]
    }
   ],
   "source": [
    "# converting textual data to numerical data\n",
    "vectorizer=TfidfVectorizer()\n",
    "vectorizer.fit(X)\n",
    "X=vectorizer.transform(X)\n",
    "print(X)"
   ]
  },
  {
   "cell_type": "code",
   "execution_count": 16,
   "id": "a7914783",
   "metadata": {
    "execution": {
     "iopub.execute_input": "2025-05-14T11:17:02.274664Z",
     "iopub.status.busy": "2025-05-14T11:17:02.274267Z",
     "iopub.status.idle": "2025-05-14T11:17:02.322453Z",
     "shell.execute_reply": "2025-05-14T11:17:02.321474Z"
    },
    "papermill": {
     "duration": 0.056192,
     "end_time": "2025-05-14T11:17:02.324424",
     "exception": false,
     "start_time": "2025-05-14T11:17:02.268232",
     "status": "completed"
    },
    "tags": []
   },
   "outputs": [],
   "source": [
    "X_train, X_test, y_train, y_test=train_test_split(X,y,test_size=0.2, stratify=y, random_state=2)\n"
   ]
  },
  {
   "cell_type": "code",
   "execution_count": 17,
   "id": "ab37f0e7",
   "metadata": {
    "execution": {
     "iopub.execute_input": "2025-05-14T11:17:02.344398Z",
     "iopub.status.busy": "2025-05-14T11:17:02.344057Z",
     "iopub.status.idle": "2025-05-14T11:17:02.355952Z",
     "shell.execute_reply": "2025-05-14T11:17:02.354498Z"
    },
    "papermill": {
     "duration": 0.023809,
     "end_time": "2025-05-14T11:17:02.358047",
     "exception": false,
     "start_time": "2025-05-14T11:17:02.334238",
     "status": "completed"
    },
    "tags": []
   },
   "outputs": [
    {
     "name": "stdout",
     "output_type": "stream",
     "text": [
      "<Compressed Sparse Row sparse matrix of dtype 'float64'\n",
      "\twith 503269 stored elements and shape (57707, 19639)>\n",
      "  Coords\tValues\n",
      "  (0, 18192)\t0.447071135845193\n",
      "  (0, 14186)\t0.2652578256230375\n",
      "  (0, 14023)\t0.3145375300355713\n",
      "  (0, 13898)\t0.3979061365475474\n",
      "  (0, 12893)\t0.3480857937521153\n",
      "  (0, 12011)\t0.16299504420057034\n",
      "  (0, 10005)\t0.23533394616585862\n",
      "  (0, 3346)\t0.38847412442053003\n",
      "  (0, 2926)\t0.3442051979974664\n",
      "  (1, 18648)\t0.1403838185760879\n",
      "  (1, 16183)\t0.33894761320836764\n",
      "  (1, 16096)\t0.3634731576463672\n",
      "  (1, 16004)\t0.3608974162987037\n",
      "  (1, 14917)\t0.34052388367563446\n",
      "  (1, 6710)\t0.3676312332487335\n",
      "  (1, 5761)\t0.3321236803309108\n",
      "  (1, 5356)\t0.20150078450075734\n",
      "  (1, 4436)\t0.39449738271762325\n",
      "  (1, 4419)\t0.21307531153632\n",
      "  (2, 18648)\t0.11024869560892073\n",
      "  (2, 14411)\t0.24927921406648687\n",
      "  (2, 13198)\t0.18260462563665714\n",
      "  (2, 13004)\t0.2977357427141644\n",
      "  (2, 12002)\t0.3317426331959291\n",
      "  (2, 10591)\t0.2310569200556685\n",
      "  :\t:\n",
      "  (57704, 14349)\t0.22002502411501668\n",
      "  (57704, 12199)\t0.25790155719799157\n",
      "  (57704, 11696)\t0.13902636251064202\n",
      "  (57704, 9486)\t0.5146181194896491\n",
      "  (57704, 3801)\t0.3070931117239158\n",
      "  (57704, 3264)\t0.40724976281277286\n",
      "  (57704, 2231)\t0.3013866262760244\n",
      "  (57704, 5)\t0.4525452887399726\n",
      "  (57705, 15451)\t0.32787221270058253\n",
      "  (57705, 12261)\t0.4515173549892416\n",
      "  (57705, 9131)\t0.3390041210330305\n",
      "  (57705, 8466)\t0.2978216594062596\n",
      "  (57705, 7402)\t0.30409023134592555\n",
      "  (57705, 6230)\t0.25332737818701323\n",
      "  (57705, 3767)\t0.31778991166521414\n",
      "  (57705, 2383)\t0.30728316879735285\n",
      "  (57705, 2281)\t0.30112394066779574\n",
      "  (57705, 2162)\t0.20561061409546358\n",
      "  (57706, 18700)\t0.35348293575864387\n",
      "  (57706, 17778)\t0.11126903595677544\n",
      "  (57706, 15248)\t0.5309077829896164\n",
      "  (57706, 12704)\t0.4839430641605731\n",
      "  (57706, 12308)\t0.4839430641605731\n",
      "  (57706, 7072)\t0.2553580408775095\n",
      "  (57706, 4922)\t0.2172474027156633\n"
     ]
    }
   ],
   "source": [
    "print(X_train)"
   ]
  },
  {
   "cell_type": "code",
   "execution_count": 18,
   "id": "a89b732e",
   "metadata": {
    "execution": {
     "iopub.execute_input": "2025-05-14T11:17:02.376749Z",
     "iopub.status.busy": "2025-05-14T11:17:02.375994Z",
     "iopub.status.idle": "2025-05-14T11:17:02.380242Z",
     "shell.execute_reply": "2025-05-14T11:17:02.379371Z"
    },
    "papermill": {
     "duration": 0.013682,
     "end_time": "2025-05-14T11:17:02.381917",
     "exception": false,
     "start_time": "2025-05-14T11:17:02.368235",
     "status": "completed"
    },
    "tags": []
   },
   "outputs": [],
   "source": [
    "model=LogisticRegression()\n"
   ]
  },
  {
   "cell_type": "code",
   "execution_count": 19,
   "id": "aa1c0686",
   "metadata": {
    "execution": {
     "iopub.execute_input": "2025-05-14T11:17:02.394960Z",
     "iopub.status.busy": "2025-05-14T11:17:02.393941Z",
     "iopub.status.idle": "2025-05-14T11:17:03.427871Z",
     "shell.execute_reply": "2025-05-14T11:17:03.426987Z"
    },
    "papermill": {
     "duration": 1.042365,
     "end_time": "2025-05-14T11:17:03.429916",
     "exception": false,
     "start_time": "2025-05-14T11:17:02.387551",
     "status": "completed"
    },
    "tags": []
   },
   "outputs": [
    {
     "data": {
      "text/html": [
       "<style>#sk-container-id-1 {color: black;background-color: white;}#sk-container-id-1 pre{padding: 0;}#sk-container-id-1 div.sk-toggleable {background-color: white;}#sk-container-id-1 label.sk-toggleable__label {cursor: pointer;display: block;width: 100%;margin-bottom: 0;padding: 0.3em;box-sizing: border-box;text-align: center;}#sk-container-id-1 label.sk-toggleable__label-arrow:before {content: \"▸\";float: left;margin-right: 0.25em;color: #696969;}#sk-container-id-1 label.sk-toggleable__label-arrow:hover:before {color: black;}#sk-container-id-1 div.sk-estimator:hover label.sk-toggleable__label-arrow:before {color: black;}#sk-container-id-1 div.sk-toggleable__content {max-height: 0;max-width: 0;overflow: hidden;text-align: left;background-color: #f0f8ff;}#sk-container-id-1 div.sk-toggleable__content pre {margin: 0.2em;color: black;border-radius: 0.25em;background-color: #f0f8ff;}#sk-container-id-1 input.sk-toggleable__control:checked~div.sk-toggleable__content {max-height: 200px;max-width: 100%;overflow: auto;}#sk-container-id-1 input.sk-toggleable__control:checked~label.sk-toggleable__label-arrow:before {content: \"▾\";}#sk-container-id-1 div.sk-estimator input.sk-toggleable__control:checked~label.sk-toggleable__label {background-color: #d4ebff;}#sk-container-id-1 div.sk-label input.sk-toggleable__control:checked~label.sk-toggleable__label {background-color: #d4ebff;}#sk-container-id-1 input.sk-hidden--visually {border: 0;clip: rect(1px 1px 1px 1px);clip: rect(1px, 1px, 1px, 1px);height: 1px;margin: -1px;overflow: hidden;padding: 0;position: absolute;width: 1px;}#sk-container-id-1 div.sk-estimator {font-family: monospace;background-color: #f0f8ff;border: 1px dotted black;border-radius: 0.25em;box-sizing: border-box;margin-bottom: 0.5em;}#sk-container-id-1 div.sk-estimator:hover {background-color: #d4ebff;}#sk-container-id-1 div.sk-parallel-item::after {content: \"\";width: 100%;border-bottom: 1px solid gray;flex-grow: 1;}#sk-container-id-1 div.sk-label:hover label.sk-toggleable__label {background-color: #d4ebff;}#sk-container-id-1 div.sk-serial::before {content: \"\";position: absolute;border-left: 1px solid gray;box-sizing: border-box;top: 0;bottom: 0;left: 50%;z-index: 0;}#sk-container-id-1 div.sk-serial {display: flex;flex-direction: column;align-items: center;background-color: white;padding-right: 0.2em;padding-left: 0.2em;position: relative;}#sk-container-id-1 div.sk-item {position: relative;z-index: 1;}#sk-container-id-1 div.sk-parallel {display: flex;align-items: stretch;justify-content: center;background-color: white;position: relative;}#sk-container-id-1 div.sk-item::before, #sk-container-id-1 div.sk-parallel-item::before {content: \"\";position: absolute;border-left: 1px solid gray;box-sizing: border-box;top: 0;bottom: 0;left: 50%;z-index: -1;}#sk-container-id-1 div.sk-parallel-item {display: flex;flex-direction: column;z-index: 1;position: relative;background-color: white;}#sk-container-id-1 div.sk-parallel-item:first-child::after {align-self: flex-end;width: 50%;}#sk-container-id-1 div.sk-parallel-item:last-child::after {align-self: flex-start;width: 50%;}#sk-container-id-1 div.sk-parallel-item:only-child::after {width: 0;}#sk-container-id-1 div.sk-dashed-wrapped {border: 1px dashed gray;margin: 0 0.4em 0.5em 0.4em;box-sizing: border-box;padding-bottom: 0.4em;background-color: white;}#sk-container-id-1 div.sk-label label {font-family: monospace;font-weight: bold;display: inline-block;line-height: 1.2em;}#sk-container-id-1 div.sk-label-container {text-align: center;}#sk-container-id-1 div.sk-container {/* jupyter's `normalize.less` sets `[hidden] { display: none; }` but bootstrap.min.css set `[hidden] { display: none !important; }` so we also need the `!important` here to be able to override the default hidden behavior on the sphinx rendered scikit-learn.org. See: https://github.com/scikit-learn/scikit-learn/issues/21755 */display: inline-block !important;position: relative;}#sk-container-id-1 div.sk-text-repr-fallback {display: none;}</style><div id=\"sk-container-id-1\" class=\"sk-top-container\"><div class=\"sk-text-repr-fallback\"><pre>LogisticRegression()</pre><b>In a Jupyter environment, please rerun this cell to show the HTML representation or trust the notebook. <br />On GitHub, the HTML representation is unable to render, please try loading this page with nbviewer.org.</b></div><div class=\"sk-container\" hidden><div class=\"sk-item\"><div class=\"sk-estimator sk-toggleable\"><input class=\"sk-toggleable__control sk-hidden--visually\" id=\"sk-estimator-id-1\" type=\"checkbox\" checked><label for=\"sk-estimator-id-1\" class=\"sk-toggleable__label sk-toggleable__label-arrow\">LogisticRegression</label><div class=\"sk-toggleable__content\"><pre>LogisticRegression()</pre></div></div></div></div></div>"
      ],
      "text/plain": [
       "LogisticRegression()"
      ]
     },
     "execution_count": 19,
     "metadata": {},
     "output_type": "execute_result"
    }
   ],
   "source": [
    "model.fit(X_train,y_train)"
   ]
  },
  {
   "cell_type": "code",
   "execution_count": 20,
   "id": "5eb47dac",
   "metadata": {
    "execution": {
     "iopub.execute_input": "2025-05-14T11:17:03.451670Z",
     "iopub.status.busy": "2025-05-14T11:17:03.451302Z",
     "iopub.status.idle": "2025-05-14T11:17:03.468296Z",
     "shell.execute_reply": "2025-05-14T11:17:03.467392Z"
    },
    "papermill": {
     "duration": 0.029316,
     "end_time": "2025-05-14T11:17:03.470245",
     "exception": false,
     "start_time": "2025-05-14T11:17:03.440929",
     "status": "completed"
    },
    "tags": []
   },
   "outputs": [],
   "source": [
    "X_train_pred=model.predict(X_train)\n",
    "X_train_acc=accuracy_score(X_train_pred, y_train)"
   ]
  },
  {
   "cell_type": "code",
   "execution_count": 21,
   "id": "16abeb1a",
   "metadata": {
    "execution": {
     "iopub.execute_input": "2025-05-14T11:17:03.490636Z",
     "iopub.status.busy": "2025-05-14T11:17:03.490269Z",
     "iopub.status.idle": "2025-05-14T11:17:03.497311Z",
     "shell.execute_reply": "2025-05-14T11:17:03.496515Z"
    },
    "papermill": {
     "duration": 0.019256,
     "end_time": "2025-05-14T11:17:03.499275",
     "exception": false,
     "start_time": "2025-05-14T11:17:03.480019",
     "status": "completed"
    },
    "tags": []
   },
   "outputs": [
    {
     "name": "stdout",
     "output_type": "stream",
     "text": [
      "acc of training data:  0.9199403885143916\n"
     ]
    }
   ],
   "source": [
    "print('acc of training data: ',X_train_acc)"
   ]
  },
  {
   "cell_type": "code",
   "execution_count": 22,
   "id": "5a91a0d4",
   "metadata": {
    "execution": {
     "iopub.execute_input": "2025-05-14T11:17:03.520552Z",
     "iopub.status.busy": "2025-05-14T11:17:03.519030Z",
     "iopub.status.idle": "2025-05-14T11:17:07.861570Z",
     "shell.execute_reply": "2025-05-14T11:17:07.860812Z"
    },
    "papermill": {
     "duration": 4.354922,
     "end_time": "2025-05-14T11:17:07.863585",
     "exception": false,
     "start_time": "2025-05-14T11:17:03.508663",
     "status": "completed"
    },
    "tags": []
   },
   "outputs": [
    {
     "data": {
      "text/plain": [
       "array([0.89921675, 0.89734526, 0.90205864, 0.89769183, 0.89664495])"
      ]
     },
     "execution_count": 22,
     "metadata": {},
     "output_type": "execute_result"
    }
   ],
   "source": [
    "scores = cross_val_score(model, X,y,  cv=5)\n",
    "scores"
   ]
  },
  {
   "cell_type": "code",
   "execution_count": 23,
   "id": "b7498c1b",
   "metadata": {
    "execution": {
     "iopub.execute_input": "2025-05-14T11:17:07.884045Z",
     "iopub.status.busy": "2025-05-14T11:17:07.883717Z",
     "iopub.status.idle": "2025-05-14T11:17:07.895894Z",
     "shell.execute_reply": "2025-05-14T11:17:07.895184Z"
    },
    "papermill": {
     "duration": 0.024414,
     "end_time": "2025-05-14T11:17:07.897619",
     "exception": false,
     "start_time": "2025-05-14T11:17:07.873205",
     "status": "completed"
    },
    "tags": []
   },
   "outputs": [
    {
     "data": {
      "text/plain": [
       "0.900603035974215"
      ]
     },
     "execution_count": 23,
     "metadata": {},
     "output_type": "execute_result"
    }
   ],
   "source": [
    "X_test_pred=model.predict(X_test)\n",
    "test_data_acc=accuracy_score(X_test_pred,y_test)\n",
    "test_data_acc"
   ]
  },
  {
   "cell_type": "code",
   "execution_count": 24,
   "id": "6cf7da63",
   "metadata": {
    "execution": {
     "iopub.execute_input": "2025-05-14T11:17:07.918538Z",
     "iopub.status.busy": "2025-05-14T11:17:07.917937Z",
     "iopub.status.idle": "2025-05-14T11:17:07.927501Z",
     "shell.execute_reply": "2025-05-14T11:17:07.925371Z"
    },
    "papermill": {
     "duration": 0.022108,
     "end_time": "2025-05-14T11:17:07.929215",
     "exception": false,
     "start_time": "2025-05-14T11:17:07.907107",
     "status": "completed"
    },
    "tags": []
   },
   "outputs": [
    {
     "name": "stdout",
     "output_type": "stream",
     "text": [
      "The News is Real.\n"
     ]
    }
   ],
   "source": [
    "X_new=X_test[2121]\n",
    "prediction=model.predict(X_new)\n",
    "if(prediction[0]==1):\n",
    "    print('The news is Fake!')\n",
    "else:\n",
    "    print('The News is Real.')"
   ]
  },
  {
   "cell_type": "code",
   "execution_count": 25,
   "id": "22de0c44",
   "metadata": {
    "execution": {
     "iopub.execute_input": "2025-05-14T11:17:07.951537Z",
     "iopub.status.busy": "2025-05-14T11:17:07.950197Z",
     "iopub.status.idle": "2025-05-14T11:17:07.957131Z",
     "shell.execute_reply": "2025-05-14T11:17:07.956283Z"
    },
    "papermill": {
     "duration": 0.019937,
     "end_time": "2025-05-14T11:17:07.959161",
     "exception": false,
     "start_time": "2025-05-14T11:17:07.939224",
     "status": "completed"
    },
    "tags": []
   },
   "outputs": [
    {
     "name": "stdout",
     "output_type": "stream",
     "text": [
      "0\n"
     ]
    }
   ],
   "source": [
    "print(y_test[2121])"
   ]
  }
 ],
 "metadata": {
  "kaggle": {
   "accelerator": "none",
   "dataSources": [
    {
     "datasetId": 2093157,
     "sourceId": 6641062,
     "sourceType": "datasetVersion"
    }
   ],
   "dockerImageVersionId": 31012,
   "isGpuEnabled": false,
   "isInternetEnabled": true,
   "language": "python",
   "sourceType": "notebook"
  },
  "kernelspec": {
   "display_name": "Python 3",
   "language": "python",
   "name": "python3"
  },
  "language_info": {
   "codemirror_mode": {
    "name": "ipython",
    "version": 3
   },
   "file_extension": ".py",
   "mimetype": "text/x-python",
   "name": "python",
   "nbconvert_exporter": "python",
   "pygments_lexer": "ipython3",
   "version": "3.11.11"
  },
  "papermill": {
   "default_parameters": {},
   "duration": 118.338032,
   "end_time": "2025-05-14T11:17:08.791419",
   "environment_variables": {},
   "exception": null,
   "input_path": "__notebook__.ipynb",
   "output_path": "__notebook__.ipynb",
   "parameters": {},
   "start_time": "2025-05-14T11:15:10.453387",
   "version": "2.6.0"
  }
 },
 "nbformat": 4,
 "nbformat_minor": 5
}
