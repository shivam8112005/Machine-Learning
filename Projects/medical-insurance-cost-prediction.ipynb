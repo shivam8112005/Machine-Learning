{
 "cells": [
  {
   "cell_type": "markdown",
   "id": "33d90e2e",
   "metadata": {
    "papermill": {
     "duration": 0.006804,
     "end_time": "2025-06-27T13:29:46.211278",
     "exception": false,
     "start_time": "2025-06-27T13:29:46.204474",
     "status": "completed"
    },
    "tags": []
   },
   "source": [
    "## Importing Dependencies"
   ]
  },
  {
   "cell_type": "code",
   "execution_count": 1,
   "id": "3f022291",
   "metadata": {
    "_cell_guid": "b1076dfc-b9ad-4769-8c92-a6c4dae69d19",
    "_uuid": "8f2839f25d086af736a60e9eeb907d3b93b6e0e5",
    "execution": {
     "iopub.execute_input": "2025-06-27T13:29:46.224537Z",
     "iopub.status.busy": "2025-06-27T13:29:46.224234Z",
     "iopub.status.idle": "2025-06-27T13:29:50.549253Z",
     "shell.execute_reply": "2025-06-27T13:29:50.548482Z"
    },
    "papermill": {
     "duration": 4.333612,
     "end_time": "2025-06-27T13:29:50.551055",
     "exception": false,
     "start_time": "2025-06-27T13:29:46.217443",
     "status": "completed"
    },
    "tags": []
   },
   "outputs": [],
   "source": [
    "import pandas as pd\n",
    "import numpy as np\n",
    "import seaborn as sns\n",
    "import matplotlib.pyplot as plt\n",
    "from sklearn.model_selection import train_test_split\n",
    "from sklearn.preprocessing import OneHotEncoder, StandardScaler, MinMaxScaler\n",
    "from sklearn.linear_model import LinearRegression\n",
    "from sklearn.metrics import accuracy_score, r2_score"
   ]
  },
  {
   "cell_type": "markdown",
   "id": "0aaac26d",
   "metadata": {
    "papermill": {
     "duration": 0.005568,
     "end_time": "2025-06-27T13:29:50.562801",
     "exception": false,
     "start_time": "2025-06-27T13:29:50.557233",
     "status": "completed"
    },
    "tags": []
   },
   "source": [
    "## Reading the data"
   ]
  },
  {
   "cell_type": "code",
   "execution_count": 2,
   "id": "4d3a1b95",
   "metadata": {
    "execution": {
     "iopub.execute_input": "2025-06-27T13:29:50.575828Z",
     "iopub.status.busy": "2025-06-27T13:29:50.575346Z",
     "iopub.status.idle": "2025-06-27T13:29:50.599893Z",
     "shell.execute_reply": "2025-06-27T13:29:50.598928Z"
    },
    "papermill": {
     "duration": 0.032817,
     "end_time": "2025-06-27T13:29:50.601533",
     "exception": false,
     "start_time": "2025-06-27T13:29:50.568716",
     "status": "completed"
    },
    "tags": []
   },
   "outputs": [],
   "source": [
    "insurance_cost=pd.read_csv('/kaggle/input/insurance/insurance.csv')"
   ]
  },
  {
   "cell_type": "markdown",
   "id": "7663ea8e",
   "metadata": {
    "papermill": {
     "duration": 0.005521,
     "end_time": "2025-06-27T13:29:50.613280",
     "exception": false,
     "start_time": "2025-06-27T13:29:50.607759",
     "status": "completed"
    },
    "tags": []
   },
   "source": [
    "## Performing EDA"
   ]
  },
  {
   "cell_type": "code",
   "execution_count": 3,
   "id": "e599ebab",
   "metadata": {
    "execution": {
     "iopub.execute_input": "2025-06-27T13:29:50.626025Z",
     "iopub.status.busy": "2025-06-27T13:29:50.625701Z",
     "iopub.status.idle": "2025-06-27T13:29:50.653035Z",
     "shell.execute_reply": "2025-06-27T13:29:50.652142Z"
    },
    "papermill": {
     "duration": 0.035501,
     "end_time": "2025-06-27T13:29:50.654566",
     "exception": false,
     "start_time": "2025-06-27T13:29:50.619065",
     "status": "completed"
    },
    "tags": []
   },
   "outputs": [
    {
     "data": {
      "text/html": [
       "<div>\n",
       "<style scoped>\n",
       "    .dataframe tbody tr th:only-of-type {\n",
       "        vertical-align: middle;\n",
       "    }\n",
       "\n",
       "    .dataframe tbody tr th {\n",
       "        vertical-align: top;\n",
       "    }\n",
       "\n",
       "    .dataframe thead th {\n",
       "        text-align: right;\n",
       "    }\n",
       "</style>\n",
       "<table border=\"1\" class=\"dataframe\">\n",
       "  <thead>\n",
       "    <tr style=\"text-align: right;\">\n",
       "      <th></th>\n",
       "      <th>age</th>\n",
       "      <th>sex</th>\n",
       "      <th>bmi</th>\n",
       "      <th>children</th>\n",
       "      <th>smoker</th>\n",
       "      <th>region</th>\n",
       "      <th>charges</th>\n",
       "    </tr>\n",
       "  </thead>\n",
       "  <tbody>\n",
       "    <tr>\n",
       "      <th>0</th>\n",
       "      <td>19</td>\n",
       "      <td>female</td>\n",
       "      <td>27.900</td>\n",
       "      <td>0</td>\n",
       "      <td>yes</td>\n",
       "      <td>southwest</td>\n",
       "      <td>16884.92400</td>\n",
       "    </tr>\n",
       "    <tr>\n",
       "      <th>1</th>\n",
       "      <td>18</td>\n",
       "      <td>male</td>\n",
       "      <td>33.770</td>\n",
       "      <td>1</td>\n",
       "      <td>no</td>\n",
       "      <td>southeast</td>\n",
       "      <td>1725.55230</td>\n",
       "    </tr>\n",
       "    <tr>\n",
       "      <th>2</th>\n",
       "      <td>28</td>\n",
       "      <td>male</td>\n",
       "      <td>33.000</td>\n",
       "      <td>3</td>\n",
       "      <td>no</td>\n",
       "      <td>southeast</td>\n",
       "      <td>4449.46200</td>\n",
       "    </tr>\n",
       "    <tr>\n",
       "      <th>3</th>\n",
       "      <td>33</td>\n",
       "      <td>male</td>\n",
       "      <td>22.705</td>\n",
       "      <td>0</td>\n",
       "      <td>no</td>\n",
       "      <td>northwest</td>\n",
       "      <td>21984.47061</td>\n",
       "    </tr>\n",
       "    <tr>\n",
       "      <th>4</th>\n",
       "      <td>32</td>\n",
       "      <td>male</td>\n",
       "      <td>28.880</td>\n",
       "      <td>0</td>\n",
       "      <td>no</td>\n",
       "      <td>northwest</td>\n",
       "      <td>3866.85520</td>\n",
       "    </tr>\n",
       "  </tbody>\n",
       "</table>\n",
       "</div>"
      ],
      "text/plain": [
       "   age     sex     bmi  children smoker     region      charges\n",
       "0   19  female  27.900         0    yes  southwest  16884.92400\n",
       "1   18    male  33.770         1     no  southeast   1725.55230\n",
       "2   28    male  33.000         3     no  southeast   4449.46200\n",
       "3   33    male  22.705         0     no  northwest  21984.47061\n",
       "4   32    male  28.880         0     no  northwest   3866.85520"
      ]
     },
     "execution_count": 3,
     "metadata": {},
     "output_type": "execute_result"
    }
   ],
   "source": [
    "insurance_cost.head()"
   ]
  },
  {
   "cell_type": "code",
   "execution_count": 4,
   "id": "8f0397a0",
   "metadata": {
    "execution": {
     "iopub.execute_input": "2025-06-27T13:29:50.668470Z",
     "iopub.status.busy": "2025-06-27T13:29:50.668134Z",
     "iopub.status.idle": "2025-06-27T13:29:50.673623Z",
     "shell.execute_reply": "2025-06-27T13:29:50.672845Z"
    },
    "papermill": {
     "duration": 0.014093,
     "end_time": "2025-06-27T13:29:50.675016",
     "exception": false,
     "start_time": "2025-06-27T13:29:50.660923",
     "status": "completed"
    },
    "tags": []
   },
   "outputs": [
    {
     "data": {
      "text/plain": [
       "(1338, 7)"
      ]
     },
     "execution_count": 4,
     "metadata": {},
     "output_type": "execute_result"
    }
   ],
   "source": [
    "insurance_cost.shape"
   ]
  },
  {
   "cell_type": "code",
   "execution_count": 5,
   "id": "56ab67fa",
   "metadata": {
    "execution": {
     "iopub.execute_input": "2025-06-27T13:29:50.688424Z",
     "iopub.status.busy": "2025-06-27T13:29:50.688101Z",
     "iopub.status.idle": "2025-06-27T13:29:50.714717Z",
     "shell.execute_reply": "2025-06-27T13:29:50.713473Z"
    },
    "papermill": {
     "duration": 0.03503,
     "end_time": "2025-06-27T13:29:50.716274",
     "exception": false,
     "start_time": "2025-06-27T13:29:50.681244",
     "status": "completed"
    },
    "tags": []
   },
   "outputs": [
    {
     "name": "stdout",
     "output_type": "stream",
     "text": [
      "<class 'pandas.core.frame.DataFrame'>\n",
      "RangeIndex: 1338 entries, 0 to 1337\n",
      "Data columns (total 7 columns):\n",
      " #   Column    Non-Null Count  Dtype  \n",
      "---  ------    --------------  -----  \n",
      " 0   age       1338 non-null   int64  \n",
      " 1   sex       1338 non-null   object \n",
      " 2   bmi       1338 non-null   float64\n",
      " 3   children  1338 non-null   int64  \n",
      " 4   smoker    1338 non-null   object \n",
      " 5   region    1338 non-null   object \n",
      " 6   charges   1338 non-null   float64\n",
      "dtypes: float64(2), int64(2), object(3)\n",
      "memory usage: 73.3+ KB\n"
     ]
    }
   ],
   "source": [
    "insurance_cost.info()"
   ]
  },
  {
   "cell_type": "code",
   "execution_count": 6,
   "id": "01ddf3b0",
   "metadata": {
    "execution": {
     "iopub.execute_input": "2025-06-27T13:29:50.730969Z",
     "iopub.status.busy": "2025-06-27T13:29:50.730626Z",
     "iopub.status.idle": "2025-06-27T13:29:50.738314Z",
     "shell.execute_reply": "2025-06-27T13:29:50.737371Z"
    },
    "papermill": {
     "duration": 0.016745,
     "end_time": "2025-06-27T13:29:50.739973",
     "exception": false,
     "start_time": "2025-06-27T13:29:50.723228",
     "status": "completed"
    },
    "tags": []
   },
   "outputs": [
    {
     "data": {
      "text/plain": [
       "age         0\n",
       "sex         0\n",
       "bmi         0\n",
       "children    0\n",
       "smoker      0\n",
       "region      0\n",
       "charges     0\n",
       "dtype: int64"
      ]
     },
     "execution_count": 6,
     "metadata": {},
     "output_type": "execute_result"
    }
   ],
   "source": [
    "insurance_cost.isna().sum()"
   ]
  },
  {
   "cell_type": "code",
   "execution_count": 7,
   "id": "d439ef2c",
   "metadata": {
    "execution": {
     "iopub.execute_input": "2025-06-27T13:29:50.754547Z",
     "iopub.status.busy": "2025-06-27T13:29:50.754227Z",
     "iopub.status.idle": "2025-06-27T13:29:50.764091Z",
     "shell.execute_reply": "2025-06-27T13:29:50.763295Z"
    },
    "papermill": {
     "duration": 0.018435,
     "end_time": "2025-06-27T13:29:50.765464",
     "exception": false,
     "start_time": "2025-06-27T13:29:50.747029",
     "status": "completed"
    },
    "tags": []
   },
   "outputs": [
    {
     "data": {
      "text/plain": [
       "age           47\n",
       "sex            2\n",
       "bmi          548\n",
       "children       6\n",
       "smoker         2\n",
       "region         4\n",
       "charges     1337\n",
       "dtype: int64"
      ]
     },
     "execution_count": 7,
     "metadata": {},
     "output_type": "execute_result"
    }
   ],
   "source": [
    "insurance_cost.nunique()\n"
   ]
  },
  {
   "cell_type": "code",
   "execution_count": 8,
   "id": "4851589f",
   "metadata": {
    "execution": {
     "iopub.execute_input": "2025-06-27T13:29:50.781245Z",
     "iopub.status.busy": "2025-06-27T13:29:50.780890Z",
     "iopub.status.idle": "2025-06-27T13:29:50.789507Z",
     "shell.execute_reply": "2025-06-27T13:29:50.788684Z"
    },
    "papermill": {
     "duration": 0.018055,
     "end_time": "2025-06-27T13:29:50.790994",
     "exception": false,
     "start_time": "2025-06-27T13:29:50.772939",
     "status": "completed"
    },
    "tags": []
   },
   "outputs": [
    {
     "data": {
      "text/plain": [
       "children\n",
       "0    574\n",
       "1    324\n",
       "2    240\n",
       "3    157\n",
       "4     25\n",
       "5     18\n",
       "Name: count, dtype: int64"
      ]
     },
     "execution_count": 8,
     "metadata": {},
     "output_type": "execute_result"
    }
   ],
   "source": [
    "insurance_cost['children'].value_counts()"
   ]
  },
  {
   "cell_type": "code",
   "execution_count": 9,
   "id": "6149a2f4",
   "metadata": {
    "execution": {
     "iopub.execute_input": "2025-06-27T13:29:50.805126Z",
     "iopub.status.busy": "2025-06-27T13:29:50.804813Z",
     "iopub.status.idle": "2025-06-27T13:29:50.817755Z",
     "shell.execute_reply": "2025-06-27T13:29:50.816847Z"
    },
    "papermill": {
     "duration": 0.021617,
     "end_time": "2025-06-27T13:29:50.819269",
     "exception": false,
     "start_time": "2025-06-27T13:29:50.797652",
     "status": "completed"
    },
    "tags": []
   },
   "outputs": [
    {
     "data": {
      "text/plain": [
       "age         0.299008\n",
       "bmi         0.198341\n",
       "children    0.067998\n",
       "charges     1.000000\n",
       "Name: charges, dtype: float64"
      ]
     },
     "execution_count": 9,
     "metadata": {},
     "output_type": "execute_result"
    }
   ],
   "source": [
    "insurance_cost.corr(numeric_only=True)['charges']"
   ]
  },
  {
   "cell_type": "markdown",
   "id": "9f61c130",
   "metadata": {
    "papermill": {
     "duration": 0.006263,
     "end_time": "2025-06-27T13:29:50.832034",
     "exception": false,
     "start_time": "2025-06-27T13:29:50.825771",
     "status": "completed"
    },
    "tags": []
   },
   "source": [
    "### Age is partially normally distributed"
   ]
  },
  {
   "cell_type": "code",
   "execution_count": 10,
   "id": "e715c811",
   "metadata": {
    "execution": {
     "iopub.execute_input": "2025-06-27T13:29:50.846049Z",
     "iopub.status.busy": "2025-06-27T13:29:50.845728Z",
     "iopub.status.idle": "2025-06-27T13:29:51.189437Z",
     "shell.execute_reply": "2025-06-27T13:29:51.188475Z"
    },
    "papermill": {
     "duration": 0.352497,
     "end_time": "2025-06-27T13:29:51.190922",
     "exception": false,
     "start_time": "2025-06-27T13:29:50.838425",
     "status": "completed"
    },
    "tags": []
   },
   "outputs": [
    {
     "name": "stderr",
     "output_type": "stream",
     "text": [
      "/usr/local/lib/python3.11/dist-packages/seaborn/_oldcore.py:1119: FutureWarning: use_inf_as_na option is deprecated and will be removed in a future version. Convert inf values to NaN before operating instead.\n",
      "  with pd.option_context('mode.use_inf_as_na', True):\n"
     ]
    },
    {
     "data": {
      "text/plain": [
       "<Axes: xlabel='age', ylabel='Density'>"
      ]
     },
     "execution_count": 10,
     "metadata": {},
     "output_type": "execute_result"
    },
    {
     "data": {
      "image/png": "[encoded data removed]",
      "text/plain": [
       "<Figure size 640x480 with 1 Axes>"
      ]
     },
     "metadata": {},
     "output_type": "display_data"
    }
   ],
   "source": [
    "sns.kdeplot(insurance_cost['age'])"
   ]
  },
  {
   "cell_type": "code",
   "execution_count": 11,
   "id": "4104b481",
   "metadata": {
    "execution": {
     "iopub.execute_input": "2025-06-27T13:29:51.206964Z",
     "iopub.status.busy": "2025-06-27T13:29:51.206340Z",
     "iopub.status.idle": "2025-06-27T13:29:51.338203Z",
     "shell.execute_reply": "2025-06-27T13:29:51.337379Z"
    },
    "papermill": {
     "duration": 0.141348,
     "end_time": "2025-06-27T13:29:51.339686",
     "exception": false,
     "start_time": "2025-06-27T13:29:51.198338",
     "status": "completed"
    },
    "tags": []
   },
   "outputs": [
    {
     "data": {
      "text/plain": [
       "<Axes: xlabel='sex', ylabel='count'>"
      ]
     },
     "execution_count": 11,
     "metadata": {},
     "output_type": "execute_result"
    },
    {
     "data": {
      "image/png": "[encoded data removed]",
      "text/plain": [
       "<Figure size 640x480 with 1 Axes>"
      ]
     },
     "metadata": {},
     "output_type": "display_data"
    }
   ],
   "source": [
    "sns.countplot(x='sex', data=insurance_cost)"
   ]
  },
  {
   "cell_type": "markdown",
   "id": "878f4083",
   "metadata": {
    "papermill": {
     "duration": 0.007484,
     "end_time": "2025-06-27T13:29:51.354957",
     "exception": false,
     "start_time": "2025-06-27T13:29:51.347473",
     "status": "completed"
    },
    "tags": []
   },
   "source": [
    "### BMI is completely normally distributed"
   ]
  },
  {
   "cell_type": "code",
   "execution_count": 12,
   "id": "e740730e",
   "metadata": {
    "execution": {
     "iopub.execute_input": "2025-06-27T13:29:51.370933Z",
     "iopub.status.busy": "2025-06-27T13:29:51.370621Z",
     "iopub.status.idle": "2025-06-27T13:29:51.579301Z",
     "shell.execute_reply": "2025-06-27T13:29:51.578427Z"
    },
    "papermill": {
     "duration": 0.218438,
     "end_time": "2025-06-27T13:29:51.580817",
     "exception": false,
     "start_time": "2025-06-27T13:29:51.362379",
     "status": "completed"
    },
    "tags": []
   },
   "outputs": [
    {
     "name": "stderr",
     "output_type": "stream",
     "text": [
      "/usr/local/lib/python3.11/dist-packages/seaborn/_oldcore.py:1119: FutureWarning: use_inf_as_na option is deprecated and will be removed in a future version. Convert inf values to NaN before operating instead.\n",
      "  with pd.option_context('mode.use_inf_as_na', True):\n"
     ]
    },
    {
     "data": {
      "text/plain": [
       "<Axes: xlabel='bmi', ylabel='Density'>"
      ]
     },
     "execution_count": 12,
     "metadata": {},
     "output_type": "execute_result"
    },
    {
     "data": {
      "image/png": "[encoded data removed]",
      "text/plain": [
       "<Figure size 640x480 with 1 Axes>"
      ]
     },
     "metadata": {},
     "output_type": "display_data"
    }
   ],
   "source": [
    "sns.kdeplot(insurance_cost['bmi'])"
   ]
  },
  {
   "cell_type": "code",
   "execution_count": 13,
   "id": "8edb6c09",
   "metadata": {
    "execution": {
     "iopub.execute_input": "2025-06-27T13:29:51.598951Z",
     "iopub.status.busy": "2025-06-27T13:29:51.598344Z",
     "iopub.status.idle": "2025-06-27T13:29:51.751059Z",
     "shell.execute_reply": "2025-06-27T13:29:51.750139Z"
    },
    "papermill": {
     "duration": 0.162969,
     "end_time": "2025-06-27T13:29:51.752636",
     "exception": false,
     "start_time": "2025-06-27T13:29:51.589667",
     "status": "completed"
    },
    "tags": []
   },
   "outputs": [
    {
     "data": {
      "text/plain": [
       "<Axes: xlabel='children', ylabel='count'>"
      ]
     },
     "execution_count": 13,
     "metadata": {},
     "output_type": "execute_result"
    },
    {
     "data": {
      "image/png": "[encoded data removed]",
      "text/plain": [
       "<Figure size 640x480 with 1 Axes>"
      ]
     },
     "metadata": {},
     "output_type": "display_data"
    }
   ],
   "source": [
    "sns.countplot(x='children', data=insurance_cost)"
   ]
  },
  {
   "cell_type": "code",
   "execution_count": 14,
   "id": "836f0f42",
   "metadata": {
    "execution": {
     "iopub.execute_input": "2025-06-27T13:29:51.771191Z",
     "iopub.status.busy": "2025-06-27T13:29:51.770863Z",
     "iopub.status.idle": "2025-06-27T13:29:51.893861Z",
     "shell.execute_reply": "2025-06-27T13:29:51.892880Z"
    },
    "papermill": {
     "duration": 0.134314,
     "end_time": "2025-06-27T13:29:51.895492",
     "exception": false,
     "start_time": "2025-06-27T13:29:51.761178",
     "status": "completed"
    },
    "tags": []
   },
   "outputs": [
    {
     "data": {
      "text/plain": [
       "<Axes: xlabel='smoker', ylabel='count'>"
      ]
     },
     "execution_count": 14,
     "metadata": {},
     "output_type": "execute_result"
    },
    {
     "data": {
      "image/png": "[encoded data removed]",
      "text/plain": [
       "<Figure size 640x480 with 1 Axes>"
      ]
     },
     "metadata": {},
     "output_type": "display_data"
    }
   ],
   "source": [
    "sns.countplot(x='smoker',data=insurance_cost)"
   ]
  },
  {
   "cell_type": "code",
   "execution_count": 15,
   "id": "357a2cac",
   "metadata": {
    "execution": {
     "iopub.execute_input": "2025-06-27T13:29:51.914577Z",
     "iopub.status.busy": "2025-06-27T13:29:51.914280Z",
     "iopub.status.idle": "2025-06-27T13:29:52.068223Z",
     "shell.execute_reply": "2025-06-27T13:29:52.067432Z"
    },
    "papermill": {
     "duration": 0.165416,
     "end_time": "2025-06-27T13:29:52.069673",
     "exception": false,
     "start_time": "2025-06-27T13:29:51.904257",
     "status": "completed"
    },
    "tags": []
   },
   "outputs": [
    {
     "data": {
      "text/plain": [
       "<Axes: xlabel='region', ylabel='count'>"
      ]
     },
     "execution_count": 15,
     "metadata": {},
     "output_type": "execute_result"
    },
    {
     "data": {
      "image/png": "[encoded data removed]",
      "text/plain": [
       "<Figure size 640x480 with 1 Axes>"
      ]
     },
     "metadata": {},
     "output_type": "display_data"
    }
   ],
   "source": [
    "sns.countplot(x='region', data=insurance_cost)"
   ]
  },
  {
   "cell_type": "code",
   "execution_count": 16,
   "id": "8b3d1a8a",
   "metadata": {
    "execution": {
     "iopub.execute_input": "2025-06-27T13:29:52.089655Z",
     "iopub.status.busy": "2025-06-27T13:29:52.089307Z",
     "iopub.status.idle": "2025-06-27T13:29:52.371246Z",
     "shell.execute_reply": "2025-06-27T13:29:52.370309Z"
    },
    "papermill": {
     "duration": 0.293773,
     "end_time": "2025-06-27T13:29:52.372864",
     "exception": false,
     "start_time": "2025-06-27T13:29:52.079091",
     "status": "completed"
    },
    "tags": []
   },
   "outputs": [
    {
     "name": "stderr",
     "output_type": "stream",
     "text": [
      "/tmp/ipykernel_13/3061841441.py:1: UserWarning: \n",
      "\n",
      "`distplot` is a deprecated function and will be removed in seaborn v0.14.0.\n",
      "\n",
      "Please adapt your code to use either `displot` (a figure-level function with\n",
      "similar flexibility) or `histplot` (an axes-level function for histograms).\n",
      "\n",
      "For a guide to updating your code to use the new functions, please see\n",
      "https://gist.github.com/mwaskom/de44147ed2974457ad6372750bbe5751\n",
      "\n",
      "  sns.distplot(insurance_cost['charges'])\n",
      "/usr/local/lib/python3.11/dist-packages/seaborn/_oldcore.py:1119: FutureWarning: use_inf_as_na option is deprecated and will be removed in a future version. Convert inf values to NaN before operating instead.\n",
      "  with pd.option_context('mode.use_inf_as_na', True):\n"
     ]
    },
    {
     "data": {
      "text/plain": [
       "<Axes: xlabel='charges', ylabel='Density'>"
      ]
     },
     "execution_count": 16,
     "metadata": {},
     "output_type": "execute_result"
    },
    {
     "data": {
      "image/png": "[encoded data removed]",
      "text/plain": [
       "<Figure size 640x480 with 1 Axes>"
      ]
     },
     "metadata": {},
     "output_type": "display_data"
    }
   ],
   "source": [
    "sns.distplot(insurance_cost['charges'])"
   ]
  },
  {
   "cell_type": "markdown",
   "id": "6c67e633",
   "metadata": {
    "papermill": {
     "duration": 0.009261,
     "end_time": "2025-06-27T13:29:52.392151",
     "exception": false,
     "start_time": "2025-06-27T13:29:52.382890",
     "status": "completed"
    },
    "tags": []
   },
   "source": [
    "## Splitting the Data"
   ]
  },
  {
   "cell_type": "code",
   "execution_count": 17,
   "id": "aeacd733",
   "metadata": {
    "execution": {
     "iopub.execute_input": "2025-06-27T13:29:52.412422Z",
     "iopub.status.busy": "2025-06-27T13:29:52.412064Z",
     "iopub.status.idle": "2025-06-27T13:29:52.418786Z",
     "shell.execute_reply": "2025-06-27T13:29:52.417914Z"
    },
    "papermill": {
     "duration": 0.018713,
     "end_time": "2025-06-27T13:29:52.420297",
     "exception": false,
     "start_time": "2025-06-27T13:29:52.401584",
     "status": "completed"
    },
    "tags": []
   },
   "outputs": [],
   "source": [
    "X=insurance_cost.drop(columns=['charges'])\n",
    "y=insurance_cost['charges']"
   ]
  },
  {
   "cell_type": "code",
   "execution_count": 18,
   "id": "98f1a131",
   "metadata": {
    "execution": {
     "iopub.execute_input": "2025-06-27T13:29:52.440768Z",
     "iopub.status.busy": "2025-06-27T13:29:52.440452Z",
     "iopub.status.idle": "2025-06-27T13:29:52.447520Z",
     "shell.execute_reply": "2025-06-27T13:29:52.446771Z"
    },
    "papermill": {
     "duration": 0.01908,
     "end_time": "2025-06-27T13:29:52.449043",
     "exception": false,
     "start_time": "2025-06-27T13:29:52.429963",
     "status": "completed"
    },
    "tags": []
   },
   "outputs": [],
   "source": [
    "X_train, X_test, y_train, y_test=train_test_split(X,y,test_size=0.2, random_state=2)"
   ]
  },
  {
   "cell_type": "markdown",
   "id": "0eb5bdd1",
   "metadata": {
    "papermill": {
     "duration": 0.00937,
     "end_time": "2025-06-27T13:29:52.468087",
     "exception": false,
     "start_time": "2025-06-27T13:29:52.458717",
     "status": "completed"
    },
    "tags": []
   },
   "source": [
    "## Encoding Categorical Columns\n",
    "### we have 3 categorical columns sex, smoker and region so i encoded them using OHE we can also use pd.get_dummies()."
   ]
  },
  {
   "cell_type": "code",
   "execution_count": 19,
   "id": "179a05b0",
   "metadata": {
    "execution": {
     "iopub.execute_input": "2025-06-27T13:29:52.488456Z",
     "iopub.status.busy": "2025-06-27T13:29:52.488159Z",
     "iopub.status.idle": "2025-06-27T13:29:52.508058Z",
     "shell.execute_reply": "2025-06-27T13:29:52.506955Z"
    },
    "papermill": {
     "duration": 0.032156,
     "end_time": "2025-06-27T13:29:52.509738",
     "exception": false,
     "start_time": "2025-06-27T13:29:52.477582",
     "status": "completed"
    },
    "tags": []
   },
   "outputs": [
    {
     "name": "stderr",
     "output_type": "stream",
     "text": [
      "/usr/local/lib/python3.11/dist-packages/sklearn/preprocessing/_encoders.py:868: FutureWarning: `sparse` was renamed to `sparse_output` in version 1.2 and will be removed in 1.4. `sparse_output` is ignored unless you leave `sparse` to its default value.\n",
      "  warnings.warn(\n"
     ]
    }
   ],
   "source": [
    "ohe=OneHotEncoder(sparse=False)\n",
    "ohe.fit(X_train[['sex','smoker','region']])\n",
    "encoded_columns = ohe.get_feature_names_out(['sex', 'smoker', 'region'])\n",
    "X_train_encoded=pd.DataFrame(ohe.transform(X_train[['sex','smoker','region']]), columns=encoded_columns, index=X_train.index)\n",
    "X_test_encoded=pd.DataFrame(ohe.transform(X_test[['sex','smoker','region']]), columns=encoded_columns, index=X_test.index)\n",
    "X_train_final=pd.concat([X_train.drop(columns=['smoker','sex','region']), X_train_encoded], axis=1)\n",
    "X_test_final=pd.concat([X_test.drop(columns=['smoker','sex','region']), X_test_encoded], axis=1)"
   ]
  },
  {
   "cell_type": "code",
   "execution_count": 20,
   "id": "8a2e5cca",
   "metadata": {
    "execution": {
     "iopub.execute_input": "2025-06-27T13:29:52.594155Z",
     "iopub.status.busy": "2025-06-27T13:29:52.593793Z",
     "iopub.status.idle": "2025-06-27T13:29:52.608929Z",
     "shell.execute_reply": "2025-06-27T13:29:52.608209Z"
    },
    "papermill": {
     "duration": 0.027303,
     "end_time": "2025-06-27T13:29:52.610260",
     "exception": false,
     "start_time": "2025-06-27T13:29:52.582957",
     "status": "completed"
    },
    "tags": []
   },
   "outputs": [
    {
     "data": {
      "text/html": [
       "<div>\n",
       "<style scoped>\n",
       "    .dataframe tbody tr th:only-of-type {\n",
       "        vertical-align: middle;\n",
       "    }\n",
       "\n",
       "    .dataframe tbody tr th {\n",
       "        vertical-align: top;\n",
       "    }\n",
       "\n",
       "    .dataframe thead th {\n",
       "        text-align: right;\n",
       "    }\n",
       "</style>\n",
       "<table border=\"1\" class=\"dataframe\">\n",
       "  <thead>\n",
       "    <tr style=\"text-align: right;\">\n",
       "      <th></th>\n",
       "      <th>age</th>\n",
       "      <th>bmi</th>\n",
       "      <th>children</th>\n",
       "      <th>sex_female</th>\n",
       "      <th>sex_male</th>\n",
       "      <th>smoker_no</th>\n",
       "      <th>smoker_yes</th>\n",
       "      <th>region_northeast</th>\n",
       "      <th>region_northwest</th>\n",
       "      <th>region_southeast</th>\n",
       "      <th>region_southwest</th>\n",
       "    </tr>\n",
       "  </thead>\n",
       "  <tbody>\n",
       "    <tr>\n",
       "      <th>882</th>\n",
       "      <td>21</td>\n",
       "      <td>22.135</td>\n",
       "      <td>0</td>\n",
       "      <td>1.0</td>\n",
       "      <td>0.0</td>\n",
       "      <td>1.0</td>\n",
       "      <td>0.0</td>\n",
       "      <td>1.0</td>\n",
       "      <td>0.0</td>\n",
       "      <td>0.0</td>\n",
       "      <td>0.0</td>\n",
       "    </tr>\n",
       "    <tr>\n",
       "      <th>505</th>\n",
       "      <td>37</td>\n",
       "      <td>30.875</td>\n",
       "      <td>3</td>\n",
       "      <td>0.0</td>\n",
       "      <td>1.0</td>\n",
       "      <td>1.0</td>\n",
       "      <td>0.0</td>\n",
       "      <td>0.0</td>\n",
       "      <td>1.0</td>\n",
       "      <td>0.0</td>\n",
       "      <td>0.0</td>\n",
       "    </tr>\n",
       "    <tr>\n",
       "      <th>798</th>\n",
       "      <td>58</td>\n",
       "      <td>33.100</td>\n",
       "      <td>0</td>\n",
       "      <td>1.0</td>\n",
       "      <td>0.0</td>\n",
       "      <td>1.0</td>\n",
       "      <td>0.0</td>\n",
       "      <td>0.0</td>\n",
       "      <td>0.0</td>\n",
       "      <td>0.0</td>\n",
       "      <td>1.0</td>\n",
       "    </tr>\n",
       "    <tr>\n",
       "      <th>792</th>\n",
       "      <td>22</td>\n",
       "      <td>23.180</td>\n",
       "      <td>0</td>\n",
       "      <td>1.0</td>\n",
       "      <td>0.0</td>\n",
       "      <td>1.0</td>\n",
       "      <td>0.0</td>\n",
       "      <td>1.0</td>\n",
       "      <td>0.0</td>\n",
       "      <td>0.0</td>\n",
       "      <td>0.0</td>\n",
       "    </tr>\n",
       "    <tr>\n",
       "      <th>201</th>\n",
       "      <td>48</td>\n",
       "      <td>32.230</td>\n",
       "      <td>1</td>\n",
       "      <td>1.0</td>\n",
       "      <td>0.0</td>\n",
       "      <td>1.0</td>\n",
       "      <td>0.0</td>\n",
       "      <td>0.0</td>\n",
       "      <td>0.0</td>\n",
       "      <td>1.0</td>\n",
       "      <td>0.0</td>\n",
       "    </tr>\n",
       "  </tbody>\n",
       "</table>\n",
       "</div>"
      ],
      "text/plain": [
       "     age     bmi  children  sex_female  sex_male  smoker_no  smoker_yes  \\\n",
       "882   21  22.135         0         1.0       0.0        1.0         0.0   \n",
       "505   37  30.875         3         0.0       1.0        1.0         0.0   \n",
       "798   58  33.100         0         1.0       0.0        1.0         0.0   \n",
       "792   22  23.180         0         1.0       0.0        1.0         0.0   \n",
       "201   48  32.230         1         1.0       0.0        1.0         0.0   \n",
       "\n",
       "     region_northeast  region_northwest  region_southeast  region_southwest  \n",
       "882               1.0               0.0               0.0               0.0  \n",
       "505               0.0               1.0               0.0               0.0  \n",
       "798               0.0               0.0               0.0               1.0  \n",
       "792               1.0               0.0               0.0               0.0  \n",
       "201               0.0               0.0               1.0               0.0  "
      ]
     },
     "execution_count": 20,
     "metadata": {},
     "output_type": "execute_result"
    }
   ],
   "source": [
    "X_train_final.head()"
   ]
  },
  {
   "cell_type": "code",
   "execution_count": 21,
   "id": "8013b181",
   "metadata": {
    "execution": {
     "iopub.execute_input": "2025-06-27T13:29:52.632083Z",
     "iopub.status.busy": "2025-06-27T13:29:52.631467Z",
     "iopub.status.idle": "2025-06-27T13:29:52.638837Z",
     "shell.execute_reply": "2025-06-27T13:29:52.638083Z"
    },
    "papermill": {
     "duration": 0.019717,
     "end_time": "2025-06-27T13:29:52.640217",
     "exception": false,
     "start_time": "2025-06-27T13:29:52.620500",
     "status": "completed"
    },
    "tags": []
   },
   "outputs": [
    {
     "data": {
      "text/plain": [
       "age                 0\n",
       "bmi                 0\n",
       "children            0\n",
       "sex_female          0\n",
       "sex_male            0\n",
       "smoker_no           0\n",
       "smoker_yes          0\n",
       "region_northeast    0\n",
       "region_northwest    0\n",
       "region_southeast    0\n",
       "region_southwest    0\n",
       "dtype: int64"
      ]
     },
     "execution_count": 21,
     "metadata": {},
     "output_type": "execute_result"
    }
   ],
   "source": [
    "X_train_final.isna().sum()"
   ]
  },
  {
   "cell_type": "markdown",
   "id": "a449259e",
   "metadata": {
    "papermill": {
     "duration": 0.009848,
     "end_time": "2025-06-27T13:29:52.660368",
     "exception": false,
     "start_time": "2025-06-27T13:29:52.650520",
     "status": "completed"
    },
    "tags": []
   },
   "source": [
    "## Scaling the Data\n",
    "### as our data is normally distributed I first scaled with Standardscaler"
   ]
  },
  {
   "cell_type": "code",
   "execution_count": 22,
   "id": "4ce634f3",
   "metadata": {
    "execution": {
     "iopub.execute_input": "2025-06-27T13:29:52.681976Z",
     "iopub.status.busy": "2025-06-27T13:29:52.681307Z",
     "iopub.status.idle": "2025-06-27T13:29:52.724437Z",
     "shell.execute_reply": "2025-06-27T13:29:52.723421Z"
    },
    "papermill": {
     "duration": 0.05589,
     "end_time": "2025-06-27T13:29:52.726164",
     "exception": false,
     "start_time": "2025-06-27T13:29:52.670274",
     "status": "completed"
    },
    "tags": []
   },
   "outputs": [],
   "source": [
    "st=StandardScaler()\n",
    "X_train_scaled=st.fit_transform(X_train_final)\n",
    "X_test_scaled=st.transform(X_test_final)"
   ]
  },
  {
   "cell_type": "code",
   "execution_count": 23,
   "id": "e06ca8b1",
   "metadata": {
    "execution": {
     "iopub.execute_input": "2025-06-27T13:29:52.747916Z",
     "iopub.status.busy": "2025-06-27T13:29:52.747558Z",
     "iopub.status.idle": "2025-06-27T13:29:52.781097Z",
     "shell.execute_reply": "2025-06-27T13:29:52.780221Z"
    },
    "papermill": {
     "duration": 0.046528,
     "end_time": "2025-06-27T13:29:52.782808",
     "exception": false,
     "start_time": "2025-06-27T13:29:52.736280",
     "status": "completed"
    },
    "tags": []
   },
   "outputs": [
    {
     "data": {
      "text/html": [
       "<style>#sk-container-id-1 {color: black;background-color: white;}#sk-container-id-1 pre{padding: 0;}#sk-container-id-1 div.sk-toggleable {background-color: white;}#sk-container-id-1 label.sk-toggleable__label {cursor: pointer;display: block;width: 100%;margin-bottom: 0;padding: 0.3em;box-sizing: border-box;text-align: center;}#sk-container-id-1 label.sk-toggleable__label-arrow:before {content: \"▸\";float: left;margin-right: 0.25em;color: #696969;}#sk-container-id-1 label.sk-toggleable__label-arrow:hover:before {color: black;}#sk-container-id-1 div.sk-estimator:hover label.sk-toggleable__label-arrow:before {color: black;}#sk-container-id-1 div.sk-toggleable__content {max-height: 0;max-width: 0;overflow: hidden;text-align: left;background-color: #f0f8ff;}#sk-container-id-1 div.sk-toggleable__content pre {margin: 0.2em;color: black;border-radius: 0.25em;background-color: #f0f8ff;}#sk-container-id-1 input.sk-toggleable__control:checked~div.sk-toggleable__content {max-height: 200px;max-width: 100%;overflow: auto;}#sk-container-id-1 input.sk-toggleable__control:checked~label.sk-toggleable__label-arrow:before {content: \"▾\";}#sk-container-id-1 div.sk-estimator input.sk-toggleable__control:checked~label.sk-toggleable__label {background-color: #d4ebff;}#sk-container-id-1 div.sk-label input.sk-toggleable__control:checked~label.sk-toggleable__label {background-color: #d4ebff;}#sk-container-id-1 input.sk-hidden--visually {border: 0;clip: rect(1px 1px 1px 1px);clip: rect(1px, 1px, 1px, 1px);height: 1px;margin: -1px;overflow: hidden;padding: 0;position: absolute;width: 1px;}#sk-container-id-1 div.sk-estimator {font-family: monospace;background-color: #f0f8ff;border: 1px dotted black;border-radius: 0.25em;box-sizing: border-box;margin-bottom: 0.5em;}#sk-container-id-1 div.sk-estimator:hover {background-color: #d4ebff;}#sk-container-id-1 div.sk-parallel-item::after {content: \"\";width: 100%;border-bottom: 1px solid gray;flex-grow: 1;}#sk-container-id-1 div.sk-label:hover label.sk-toggleable__label {background-color: #d4ebff;}#sk-container-id-1 div.sk-serial::before {content: \"\";position: absolute;border-left: 1px solid gray;box-sizing: border-box;top: 0;bottom: 0;left: 50%;z-index: 0;}#sk-container-id-1 div.sk-serial {display: flex;flex-direction: column;align-items: center;background-color: white;padding-right: 0.2em;padding-left: 0.2em;position: relative;}#sk-container-id-1 div.sk-item {position: relative;z-index: 1;}#sk-container-id-1 div.sk-parallel {display: flex;align-items: stretch;justify-content: center;background-color: white;position: relative;}#sk-container-id-1 div.sk-item::before, #sk-container-id-1 div.sk-parallel-item::before {content: \"\";position: absolute;border-left: 1px solid gray;box-sizing: border-box;top: 0;bottom: 0;left: 50%;z-index: -1;}#sk-container-id-1 div.sk-parallel-item {display: flex;flex-direction: column;z-index: 1;position: relative;background-color: white;}#sk-container-id-1 div.sk-parallel-item:first-child::after {align-self: flex-end;width: 50%;}#sk-container-id-1 div.sk-parallel-item:last-child::after {align-self: flex-start;width: 50%;}#sk-container-id-1 div.sk-parallel-item:only-child::after {width: 0;}#sk-container-id-1 div.sk-dashed-wrapped {border: 1px dashed gray;margin: 0 0.4em 0.5em 0.4em;box-sizing: border-box;padding-bottom: 0.4em;background-color: white;}#sk-container-id-1 div.sk-label label {font-family: monospace;font-weight: bold;display: inline-block;line-height: 1.2em;}#sk-container-id-1 div.sk-label-container {text-align: center;}#sk-container-id-1 div.sk-container {/* jupyter's `normalize.less` sets `[hidden] { display: none; }` but bootstrap.min.css set `[hidden] { display: none !important; }` so we also need the `!important` here to be able to override the default hidden behavior on the sphinx rendered scikit-learn.org. See: https://github.com/scikit-learn/scikit-learn/issues/21755 */display: inline-block !important;position: relative;}#sk-container-id-1 div.sk-text-repr-fallback {display: none;}</style><div id=\"sk-container-id-1\" class=\"sk-top-container\"><div class=\"sk-text-repr-fallback\"><pre>LinearRegression()</pre><b>In a Jupyter environment, please rerun this cell to show the HTML representation or trust the notebook. <br />On GitHub, the HTML representation is unable to render, please try loading this page with nbviewer.org.</b></div><div class=\"sk-container\" hidden><div class=\"sk-item\"><div class=\"sk-estimator sk-toggleable\"><input class=\"sk-toggleable__control sk-hidden--visually\" id=\"sk-estimator-id-1\" type=\"checkbox\" checked><label for=\"sk-estimator-id-1\" class=\"sk-toggleable__label sk-toggleable__label-arrow\">LinearRegression</label><div class=\"sk-toggleable__content\"><pre>LinearRegression()</pre></div></div></div></div></div>"
      ],
      "text/plain": [
       "LinearRegression()"
      ]
     },
     "execution_count": 23,
     "metadata": {},
     "output_type": "execute_result"
    }
   ],
   "source": [
    "lr=LinearRegression()\n",
    "lr.fit(X_train_scaled, y_train)"
   ]
  },
  {
   "cell_type": "code",
   "execution_count": 24,
   "id": "dd51d48e",
   "metadata": {
    "execution": {
     "iopub.execute_input": "2025-06-27T13:29:52.818992Z",
     "iopub.status.busy": "2025-06-27T13:29:52.818646Z",
     "iopub.status.idle": "2025-06-27T13:29:52.823761Z",
     "shell.execute_reply": "2025-06-27T13:29:52.822936Z"
    },
    "papermill": {
     "duration": 0.025406,
     "end_time": "2025-06-27T13:29:52.825496",
     "exception": false,
     "start_time": "2025-06-27T13:29:52.800090",
     "status": "completed"
    },
    "tags": []
   },
   "outputs": [],
   "source": [
    "y_pred=lr.predict(X_test_scaled)\n"
   ]
  },
  {
   "cell_type": "markdown",
   "id": "1224386a",
   "metadata": {
    "papermill": {
     "duration": 0.016602,
     "end_time": "2025-06-27T13:29:52.859545",
     "exception": false,
     "start_time": "2025-06-27T13:29:52.842943",
     "status": "completed"
    },
    "tags": []
   },
   "source": [
    "## Accuracy on testing Data\n",
    "### As we are using LinearRegression our accauracy is not that bad according to it, but we can improve it if we use some complex models like XGBoostregressor"
   ]
  },
  {
   "cell_type": "code",
   "execution_count": 25,
   "id": "4c1b84ec",
   "metadata": {
    "execution": {
     "iopub.execute_input": "2025-06-27T13:29:52.893335Z",
     "iopub.status.busy": "2025-06-27T13:29:52.892902Z",
     "iopub.status.idle": "2025-06-27T13:29:52.900081Z",
     "shell.execute_reply": "2025-06-27T13:29:52.899221Z"
    },
    "papermill": {
     "duration": 0.02508,
     "end_time": "2025-06-27T13:29:52.901390",
     "exception": false,
     "start_time": "2025-06-27T13:29:52.876310",
     "status": "completed"
    },
    "tags": []
   },
   "outputs": [
    {
     "data": {
      "text/plain": [
       "0.7449415564623685"
      ]
     },
     "execution_count": 25,
     "metadata": {},
     "output_type": "execute_result"
    }
   ],
   "source": [
    "r2_score(y_test, y_pred)"
   ]
  },
  {
   "cell_type": "markdown",
   "id": "60fb2059",
   "metadata": {
    "papermill": {
     "duration": 0.010055,
     "end_time": "2025-06-27T13:29:52.922039",
     "exception": false,
     "start_time": "2025-06-27T13:29:52.911984",
     "status": "completed"
    },
    "tags": []
   },
   "source": [
    "### I was just checking is there any difference in accuracy between 2 scaling techniques; StandardScaler and MinMaxScaler."
   ]
  },
  {
   "cell_type": "code",
   "execution_count": 26,
   "id": "31c7a89d",
   "metadata": {
    "execution": {
     "iopub.execute_input": "2025-06-27T13:29:52.944159Z",
     "iopub.status.busy": "2025-06-27T13:29:52.943836Z",
     "iopub.status.idle": "2025-06-27T13:29:52.954575Z",
     "shell.execute_reply": "2025-06-27T13:29:52.953874Z"
    },
    "papermill": {
     "duration": 0.023783,
     "end_time": "2025-06-27T13:29:52.956058",
     "exception": false,
     "start_time": "2025-06-27T13:29:52.932275",
     "status": "completed"
    },
    "tags": []
   },
   "outputs": [],
   "source": [
    "scaler1=MinMaxScaler()\n",
    "X_train_scaled1=scaler1.fit_transform(X_train_final)\n",
    "X_test_scaled1=scaler1.transform(X_test_final)"
   ]
  },
  {
   "cell_type": "code",
   "execution_count": 27,
   "id": "7328d1ba",
   "metadata": {
    "execution": {
     "iopub.execute_input": "2025-06-27T13:29:52.978283Z",
     "iopub.status.busy": "2025-06-27T13:29:52.977968Z",
     "iopub.status.idle": "2025-06-27T13:29:52.986819Z",
     "shell.execute_reply": "2025-06-27T13:29:52.985894Z"
    },
    "papermill": {
     "duration": 0.021748,
     "end_time": "2025-06-27T13:29:52.988431",
     "exception": false,
     "start_time": "2025-06-27T13:29:52.966683",
     "status": "completed"
    },
    "tags": []
   },
   "outputs": [
    {
     "data": {
      "text/html": [
       "<style>#sk-container-id-2 {color: black;background-color: white;}#sk-container-id-2 pre{padding: 0;}#sk-container-id-2 div.sk-toggleable {background-color: white;}#sk-container-id-2 label.sk-toggleable__label {cursor: pointer;display: block;width: 100%;margin-bottom: 0;padding: 0.3em;box-sizing: border-box;text-align: center;}#sk-container-id-2 label.sk-toggleable__label-arrow:before {content: \"▸\";float: left;margin-right: 0.25em;color: #696969;}#sk-container-id-2 label.sk-toggleable__label-arrow:hover:before {color: black;}#sk-container-id-2 div.sk-estimator:hover label.sk-toggleable__label-arrow:before {color: black;}#sk-container-id-2 div.sk-toggleable__content {max-height: 0;max-width: 0;overflow: hidden;text-align: left;background-color: #f0f8ff;}#sk-container-id-2 div.sk-toggleable__content pre {margin: 0.2em;color: black;border-radius: 0.25em;background-color: #f0f8ff;}#sk-container-id-2 input.sk-toggleable__control:checked~div.sk-toggleable__content {max-height: 200px;max-width: 100%;overflow: auto;}#sk-container-id-2 input.sk-toggleable__control:checked~label.sk-toggleable__label-arrow:before {content: \"▾\";}#sk-container-id-2 div.sk-estimator input.sk-toggleable__control:checked~label.sk-toggleable__label {background-color: #d4ebff;}#sk-container-id-2 div.sk-label input.sk-toggleable__control:checked~label.sk-toggleable__label {background-color: #d4ebff;}#sk-container-id-2 input.sk-hidden--visually {border: 0;clip: rect(1px 1px 1px 1px);clip: rect(1px, 1px, 1px, 1px);height: 1px;margin: -1px;overflow: hidden;padding: 0;position: absolute;width: 1px;}#sk-container-id-2 div.sk-estimator {font-family: monospace;background-color: #f0f8ff;border: 1px dotted black;border-radius: 0.25em;box-sizing: border-box;margin-bottom: 0.5em;}#sk-container-id-2 div.sk-estimator:hover {background-color: #d4ebff;}#sk-container-id-2 div.sk-parallel-item::after {content: \"\";width: 100%;border-bottom: 1px solid gray;flex-grow: 1;}#sk-container-id-2 div.sk-label:hover label.sk-toggleable__label {background-color: #d4ebff;}#sk-container-id-2 div.sk-serial::before {content: \"\";position: absolute;border-left: 1px solid gray;box-sizing: border-box;top: 0;bottom: 0;left: 50%;z-index: 0;}#sk-container-id-2 div.sk-serial {display: flex;flex-direction: column;align-items: center;background-color: white;padding-right: 0.2em;padding-left: 0.2em;position: relative;}#sk-container-id-2 div.sk-item {position: relative;z-index: 1;}#sk-container-id-2 div.sk-parallel {display: flex;align-items: stretch;justify-content: center;background-color: white;position: relative;}#sk-container-id-2 div.sk-item::before, #sk-container-id-2 div.sk-parallel-item::before {content: \"\";position: absolute;border-left: 1px solid gray;box-sizing: border-box;top: 0;bottom: 0;left: 50%;z-index: -1;}#sk-container-id-2 div.sk-parallel-item {display: flex;flex-direction: column;z-index: 1;position: relative;background-color: white;}#sk-container-id-2 div.sk-parallel-item:first-child::after {align-self: flex-end;width: 50%;}#sk-container-id-2 div.sk-parallel-item:last-child::after {align-self: flex-start;width: 50%;}#sk-container-id-2 div.sk-parallel-item:only-child::after {width: 0;}#sk-container-id-2 div.sk-dashed-wrapped {border: 1px dashed gray;margin: 0 0.4em 0.5em 0.4em;box-sizing: border-box;padding-bottom: 0.4em;background-color: white;}#sk-container-id-2 div.sk-label label {font-family: monospace;font-weight: bold;display: inline-block;line-height: 1.2em;}#sk-container-id-2 div.sk-label-container {text-align: center;}#sk-container-id-2 div.sk-container {/* jupyter's `normalize.less` sets `[hidden] { display: none; }` but bootstrap.min.css set `[hidden] { display: none !important; }` so we also need the `!important` here to be able to override the default hidden behavior on the sphinx rendered scikit-learn.org. See: https://github.com/scikit-learn/scikit-learn/issues/21755 */display: inline-block !important;position: relative;}#sk-container-id-2 div.sk-text-repr-fallback {display: none;}</style><div id=\"sk-container-id-2\" class=\"sk-top-container\"><div class=\"sk-text-repr-fallback\"><pre>LinearRegression()</pre><b>In a Jupyter environment, please rerun this cell to show the HTML representation or trust the notebook. <br />On GitHub, the HTML representation is unable to render, please try loading this page with nbviewer.org.</b></div><div class=\"sk-container\" hidden><div class=\"sk-item\"><div class=\"sk-estimator sk-toggleable\"><input class=\"sk-toggleable__control sk-hidden--visually\" id=\"sk-estimator-id-2\" type=\"checkbox\" checked><label for=\"sk-estimator-id-2\" class=\"sk-toggleable__label sk-toggleable__label-arrow\">LinearRegression</label><div class=\"sk-toggleable__content\"><pre>LinearRegression()</pre></div></div></div></div></div>"
      ],
      "text/plain": [
       "LinearRegression()"
      ]
     },
     "execution_count": 27,
     "metadata": {},
     "output_type": "execute_result"
    }
   ],
   "source": [
    "lr1=LinearRegression()\n",
    "lr1.fit(X_train_scaled1, y_train)"
   ]
  },
  {
   "cell_type": "code",
   "execution_count": 28,
   "id": "a5c4a75c",
   "metadata": {
    "execution": {
     "iopub.execute_input": "2025-06-27T13:29:53.011617Z",
     "iopub.status.busy": "2025-06-27T13:29:53.011294Z",
     "iopub.status.idle": "2025-06-27T13:29:53.015782Z",
     "shell.execute_reply": "2025-06-27T13:29:53.014672Z"
    },
    "papermill": {
     "duration": 0.018112,
     "end_time": "2025-06-27T13:29:53.017288",
     "exception": false,
     "start_time": "2025-06-27T13:29:52.999176",
     "status": "completed"
    },
    "tags": []
   },
   "outputs": [],
   "source": [
    "y_pred1=lr1.predict(X_test_scaled)\n"
   ]
  },
  {
   "cell_type": "markdown",
   "id": "e27fdc57",
   "metadata": {
    "papermill": {
     "duration": 0.010358,
     "end_time": "2025-06-27T13:29:53.038378",
     "exception": false,
     "start_time": "2025-06-27T13:29:53.028020",
     "status": "completed"
    },
    "tags": []
   },
   "source": [
    "### Accuracy is same in this case but not always."
   ]
  },
  {
   "cell_type": "code",
   "execution_count": 29,
   "id": "7b390559",
   "metadata": {
    "execution": {
     "iopub.execute_input": "2025-06-27T13:29:53.061428Z",
     "iopub.status.busy": "2025-06-27T13:29:53.060503Z",
     "iopub.status.idle": "2025-06-27T13:29:53.067322Z",
     "shell.execute_reply": "2025-06-27T13:29:53.066527Z"
    },
    "papermill": {
     "duration": 0.019823,
     "end_time": "2025-06-27T13:29:53.068828",
     "exception": false,
     "start_time": "2025-06-27T13:29:53.049005",
     "status": "completed"
    },
    "tags": []
   },
   "outputs": [
    {
     "data": {
      "text/plain": [
       "0.7449415564623685"
      ]
     },
     "execution_count": 29,
     "metadata": {},
     "output_type": "execute_result"
    }
   ],
   "source": [
    "r2_score(y_test, y_pred)"
   ]
  }
 ],
 "metadata": {
  "kaggle": {
   "accelerator": "none",
   "dataSources": [
    {
     "datasetId": 13720,
     "sourceId": 18513,
     "sourceType": "datasetVersion"
    }
   ],
   "dockerImageVersionId": 31040,
   "isGpuEnabled": false,
   "isInternetEnabled": true,
   "language": "python",
   "sourceType": "notebook"
  },
  "kernelspec": {
   "display_name": "Python 3",
   "language": "python",
   "name": "python3"
  },
  "language_info": {
   "codemirror_mode": {
    "name": "ipython",
    "version": 3
   },
   "file_extension": ".py",
   "mimetype": "text/x-python",
   "name": "python",
   "nbconvert_exporter": "python",
   "pygments_lexer": "ipython3",
   "version": "3.11.11"
  },
  "papermill": {
   "default_parameters": {},
   "duration": 12.400964,
   "end_time": "2025-06-27T13:29:53.800119",
   "environment_variables": {},
   "exception": null,
   "input_path": "__notebook__.ipynb",
   "output_path": "__notebook__.ipynb",
   "parameters": {},
   "start_time": "2025-06-27T13:29:41.399155",
   "version": "2.6.0"
  }
 },
 "nbformat": 4,
 "nbformat_minor": 5
}
